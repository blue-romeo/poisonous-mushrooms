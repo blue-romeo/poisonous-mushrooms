{
 "cells": [
  {
   "cell_type": "code",
   "execution_count": 1,
   "id": "42e6103f",
   "metadata": {
    "_cell_guid": "b1076dfc-b9ad-4769-8c92-a6c4dae69d19",
    "_uuid": "8f2839f25d086af736a60e9eeb907d3b93b6e0e5",
    "execution": {
     "iopub.execute_input": "2024-08-28T21:28:50.212344Z",
     "iopub.status.busy": "2024-08-28T21:28:50.211958Z",
     "iopub.status.idle": "2024-08-28T21:28:50.975732Z",
     "shell.execute_reply": "2024-08-28T21:28:50.974695Z"
    },
    "papermill": {
     "duration": 0.784887,
     "end_time": "2024-08-28T21:28:50.977985",
     "exception": false,
     "start_time": "2024-08-28T21:28:50.193098",
     "status": "completed"
    },
    "tags": []
   },
   "outputs": [
    {
     "name": "stdout",
     "output_type": "stream",
     "text": [
      "/kaggle/input/playground-series-s4e8/sample_submission.csv\n",
      "/kaggle/input/playground-series-s4e8/train.csv\n",
      "/kaggle/input/playground-series-s4e8/test.csv\n"
     ]
    }
   ],
   "source": [
    "# This Python 3 environment comes with many helpful analytics libraries installed\n",
    "# It is defined by the kaggle/python Docker image: https://github.com/kaggle/docker-python\n",
    "# For example, here's several helpful packages to load\n",
    "\n",
    "import numpy as np # linear algebra\n",
    "import pandas as pd # data processing, CSV file I/O (e.g. pd.read_csv)\n",
    "\n",
    "# Input data files are available in the read-only \"../input/\" directory\n",
    "# For example, running this (by clicking run or pressing Shift+Enter) will list all files under the input directory\n",
    "\n",
    "import os\n",
    "for dirname, _, filenames in os.walk('/kaggle/input'):\n",
    "    for filename in filenames:\n",
    "        print(os.path.join(dirname, filename))\n",
    "\n",
    "# You can write up to 20GB to the current directory (/kaggle/working/) that gets preserved as output when you create a version using \"Save & Run All\" \n",
    "# You can also write temporary files to /kaggle/temp/, but they won't be saved outside of the current session"
   ]
  },
  {
   "cell_type": "markdown",
   "id": "a26de22c",
   "metadata": {
    "papermill": {
     "duration": 0.016251,
     "end_time": "2024-08-28T21:28:51.010888",
     "exception": false,
     "start_time": "2024-08-28T21:28:50.994637",
     "status": "completed"
    },
    "tags": []
   },
   "source": [
    "# imports"
   ]
  },
  {
   "cell_type": "code",
   "execution_count": 2,
   "id": "14cdd5fa",
   "metadata": {
    "execution": {
     "iopub.execute_input": "2024-08-28T21:28:51.046227Z",
     "iopub.status.busy": "2024-08-28T21:28:51.044950Z",
     "iopub.status.idle": "2024-08-28T21:28:52.465380Z",
     "shell.execute_reply": "2024-08-28T21:28:52.464290Z"
    },
    "papermill": {
     "duration": 1.440155,
     "end_time": "2024-08-28T21:28:52.468018",
     "exception": false,
     "start_time": "2024-08-28T21:28:51.027863",
     "status": "completed"
    },
    "tags": []
   },
   "outputs": [],
   "source": [
    "import pandas as pd\n",
    "import numpy as np\n",
    "import matplotlib.pyplot as plt\n",
    "import seaborn as sns\n",
    "\n",
    "pd.set_option('display.max_columns', 200)\n",
    "plt.style.use('ggplot')"
   ]
  },
  {
   "cell_type": "code",
   "execution_count": 3,
   "id": "12ef5a73",
   "metadata": {
    "execution": {
     "iopub.execute_input": "2024-08-28T21:28:52.503003Z",
     "iopub.status.busy": "2024-08-28T21:28:52.502098Z",
     "iopub.status.idle": "2024-08-28T21:29:08.015325Z",
     "shell.execute_reply": "2024-08-28T21:29:08.014447Z"
    },
    "papermill": {
     "duration": 15.533487,
     "end_time": "2024-08-28T21:29:08.017848",
     "exception": false,
     "start_time": "2024-08-28T21:28:52.484361",
     "status": "completed"
    },
    "tags": []
   },
   "outputs": [],
   "source": [
    "\n",
    "train = pd.read_csv('/kaggle/input/playground-series-s4e8/train.csv')\n",
    "test = pd.read_csv('/kaggle/input/playground-series-s4e8/test.csv')"
   ]
  },
  {
   "cell_type": "code",
   "execution_count": 4,
   "id": "6274e909",
   "metadata": {
    "execution": {
     "iopub.execute_input": "2024-08-28T21:29:08.051814Z",
     "iopub.status.busy": "2024-08-28T21:29:08.051403Z",
     "iopub.status.idle": "2024-08-28T21:29:08.093670Z",
     "shell.execute_reply": "2024-08-28T21:29:08.092675Z"
    },
    "papermill": {
     "duration": 0.061232,
     "end_time": "2024-08-28T21:29:08.095790",
     "exception": false,
     "start_time": "2024-08-28T21:29:08.034558",
     "status": "completed"
    },
    "tags": []
   },
   "outputs": [
    {
     "data": {
      "text/html": [
       "<div>\n",
       "<style scoped>\n",
       "    .dataframe tbody tr th:only-of-type {\n",
       "        vertical-align: middle;\n",
       "    }\n",
       "\n",
       "    .dataframe tbody tr th {\n",
       "        vertical-align: top;\n",
       "    }\n",
       "\n",
       "    .dataframe thead th {\n",
       "        text-align: right;\n",
       "    }\n",
       "</style>\n",
       "<table border=\"1\" class=\"dataframe\">\n",
       "  <thead>\n",
       "    <tr style=\"text-align: right;\">\n",
       "      <th></th>\n",
       "      <th>id</th>\n",
       "      <th>class</th>\n",
       "      <th>cap-diameter</th>\n",
       "      <th>cap-shape</th>\n",
       "      <th>cap-surface</th>\n",
       "      <th>cap-color</th>\n",
       "      <th>does-bruise-or-bleed</th>\n",
       "      <th>gill-attachment</th>\n",
       "      <th>gill-spacing</th>\n",
       "      <th>gill-color</th>\n",
       "      <th>stem-height</th>\n",
       "      <th>stem-width</th>\n",
       "      <th>stem-root</th>\n",
       "      <th>stem-surface</th>\n",
       "      <th>stem-color</th>\n",
       "      <th>veil-type</th>\n",
       "      <th>veil-color</th>\n",
       "      <th>has-ring</th>\n",
       "      <th>ring-type</th>\n",
       "      <th>spore-print-color</th>\n",
       "      <th>habitat</th>\n",
       "      <th>season</th>\n",
       "    </tr>\n",
       "  </thead>\n",
       "  <tbody>\n",
       "    <tr>\n",
       "      <th>0</th>\n",
       "      <td>0</td>\n",
       "      <td>e</td>\n",
       "      <td>8.80</td>\n",
       "      <td>f</td>\n",
       "      <td>s</td>\n",
       "      <td>u</td>\n",
       "      <td>f</td>\n",
       "      <td>a</td>\n",
       "      <td>c</td>\n",
       "      <td>w</td>\n",
       "      <td>4.51</td>\n",
       "      <td>15.39</td>\n",
       "      <td>NaN</td>\n",
       "      <td>NaN</td>\n",
       "      <td>w</td>\n",
       "      <td>NaN</td>\n",
       "      <td>NaN</td>\n",
       "      <td>f</td>\n",
       "      <td>f</td>\n",
       "      <td>NaN</td>\n",
       "      <td>d</td>\n",
       "      <td>a</td>\n",
       "    </tr>\n",
       "    <tr>\n",
       "      <th>1</th>\n",
       "      <td>1</td>\n",
       "      <td>p</td>\n",
       "      <td>4.51</td>\n",
       "      <td>x</td>\n",
       "      <td>h</td>\n",
       "      <td>o</td>\n",
       "      <td>f</td>\n",
       "      <td>a</td>\n",
       "      <td>c</td>\n",
       "      <td>n</td>\n",
       "      <td>4.79</td>\n",
       "      <td>6.48</td>\n",
       "      <td>NaN</td>\n",
       "      <td>y</td>\n",
       "      <td>o</td>\n",
       "      <td>NaN</td>\n",
       "      <td>NaN</td>\n",
       "      <td>t</td>\n",
       "      <td>z</td>\n",
       "      <td>NaN</td>\n",
       "      <td>d</td>\n",
       "      <td>w</td>\n",
       "    </tr>\n",
       "    <tr>\n",
       "      <th>2</th>\n",
       "      <td>2</td>\n",
       "      <td>e</td>\n",
       "      <td>6.94</td>\n",
       "      <td>f</td>\n",
       "      <td>s</td>\n",
       "      <td>b</td>\n",
       "      <td>f</td>\n",
       "      <td>x</td>\n",
       "      <td>c</td>\n",
       "      <td>w</td>\n",
       "      <td>6.85</td>\n",
       "      <td>9.93</td>\n",
       "      <td>NaN</td>\n",
       "      <td>s</td>\n",
       "      <td>n</td>\n",
       "      <td>NaN</td>\n",
       "      <td>NaN</td>\n",
       "      <td>f</td>\n",
       "      <td>f</td>\n",
       "      <td>NaN</td>\n",
       "      <td>l</td>\n",
       "      <td>w</td>\n",
       "    </tr>\n",
       "    <tr>\n",
       "      <th>3</th>\n",
       "      <td>3</td>\n",
       "      <td>e</td>\n",
       "      <td>3.88</td>\n",
       "      <td>f</td>\n",
       "      <td>y</td>\n",
       "      <td>g</td>\n",
       "      <td>f</td>\n",
       "      <td>s</td>\n",
       "      <td>NaN</td>\n",
       "      <td>g</td>\n",
       "      <td>4.16</td>\n",
       "      <td>6.53</td>\n",
       "      <td>NaN</td>\n",
       "      <td>NaN</td>\n",
       "      <td>w</td>\n",
       "      <td>NaN</td>\n",
       "      <td>NaN</td>\n",
       "      <td>f</td>\n",
       "      <td>f</td>\n",
       "      <td>NaN</td>\n",
       "      <td>d</td>\n",
       "      <td>u</td>\n",
       "    </tr>\n",
       "    <tr>\n",
       "      <th>4</th>\n",
       "      <td>4</td>\n",
       "      <td>e</td>\n",
       "      <td>5.85</td>\n",
       "      <td>x</td>\n",
       "      <td>l</td>\n",
       "      <td>w</td>\n",
       "      <td>f</td>\n",
       "      <td>d</td>\n",
       "      <td>NaN</td>\n",
       "      <td>w</td>\n",
       "      <td>3.37</td>\n",
       "      <td>8.36</td>\n",
       "      <td>NaN</td>\n",
       "      <td>NaN</td>\n",
       "      <td>w</td>\n",
       "      <td>NaN</td>\n",
       "      <td>NaN</td>\n",
       "      <td>f</td>\n",
       "      <td>f</td>\n",
       "      <td>NaN</td>\n",
       "      <td>g</td>\n",
       "      <td>a</td>\n",
       "    </tr>\n",
       "    <tr>\n",
       "      <th>...</th>\n",
       "      <td>...</td>\n",
       "      <td>...</td>\n",
       "      <td>...</td>\n",
       "      <td>...</td>\n",
       "      <td>...</td>\n",
       "      <td>...</td>\n",
       "      <td>...</td>\n",
       "      <td>...</td>\n",
       "      <td>...</td>\n",
       "      <td>...</td>\n",
       "      <td>...</td>\n",
       "      <td>...</td>\n",
       "      <td>...</td>\n",
       "      <td>...</td>\n",
       "      <td>...</td>\n",
       "      <td>...</td>\n",
       "      <td>...</td>\n",
       "      <td>...</td>\n",
       "      <td>...</td>\n",
       "      <td>...</td>\n",
       "      <td>...</td>\n",
       "      <td>...</td>\n",
       "    </tr>\n",
       "    <tr>\n",
       "      <th>3116940</th>\n",
       "      <td>3116940</td>\n",
       "      <td>e</td>\n",
       "      <td>9.29</td>\n",
       "      <td>f</td>\n",
       "      <td>NaN</td>\n",
       "      <td>n</td>\n",
       "      <td>t</td>\n",
       "      <td>NaN</td>\n",
       "      <td>NaN</td>\n",
       "      <td>w</td>\n",
       "      <td>12.14</td>\n",
       "      <td>18.81</td>\n",
       "      <td>b</td>\n",
       "      <td>NaN</td>\n",
       "      <td>w</td>\n",
       "      <td>u</td>\n",
       "      <td>w</td>\n",
       "      <td>t</td>\n",
       "      <td>g</td>\n",
       "      <td>NaN</td>\n",
       "      <td>d</td>\n",
       "      <td>u</td>\n",
       "    </tr>\n",
       "    <tr>\n",
       "      <th>3116941</th>\n",
       "      <td>3116941</td>\n",
       "      <td>e</td>\n",
       "      <td>10.88</td>\n",
       "      <td>s</td>\n",
       "      <td>NaN</td>\n",
       "      <td>w</td>\n",
       "      <td>t</td>\n",
       "      <td>d</td>\n",
       "      <td>c</td>\n",
       "      <td>p</td>\n",
       "      <td>6.65</td>\n",
       "      <td>26.97</td>\n",
       "      <td>NaN</td>\n",
       "      <td>NaN</td>\n",
       "      <td>w</td>\n",
       "      <td>NaN</td>\n",
       "      <td>NaN</td>\n",
       "      <td>f</td>\n",
       "      <td>f</td>\n",
       "      <td>NaN</td>\n",
       "      <td>d</td>\n",
       "      <td>u</td>\n",
       "    </tr>\n",
       "    <tr>\n",
       "      <th>3116942</th>\n",
       "      <td>3116942</td>\n",
       "      <td>p</td>\n",
       "      <td>7.82</td>\n",
       "      <td>x</td>\n",
       "      <td>e</td>\n",
       "      <td>e</td>\n",
       "      <td>f</td>\n",
       "      <td>a</td>\n",
       "      <td>NaN</td>\n",
       "      <td>w</td>\n",
       "      <td>9.51</td>\n",
       "      <td>11.06</td>\n",
       "      <td>NaN</td>\n",
       "      <td>NaN</td>\n",
       "      <td>y</td>\n",
       "      <td>NaN</td>\n",
       "      <td>w</td>\n",
       "      <td>t</td>\n",
       "      <td>z</td>\n",
       "      <td>NaN</td>\n",
       "      <td>d</td>\n",
       "      <td>a</td>\n",
       "    </tr>\n",
       "    <tr>\n",
       "      <th>3116943</th>\n",
       "      <td>3116943</td>\n",
       "      <td>e</td>\n",
       "      <td>9.45</td>\n",
       "      <td>p</td>\n",
       "      <td>i</td>\n",
       "      <td>n</td>\n",
       "      <td>t</td>\n",
       "      <td>e</td>\n",
       "      <td>NaN</td>\n",
       "      <td>p</td>\n",
       "      <td>9.13</td>\n",
       "      <td>17.77</td>\n",
       "      <td>NaN</td>\n",
       "      <td>y</td>\n",
       "      <td>w</td>\n",
       "      <td>NaN</td>\n",
       "      <td>NaN</td>\n",
       "      <td>t</td>\n",
       "      <td>p</td>\n",
       "      <td>NaN</td>\n",
       "      <td>d</td>\n",
       "      <td>u</td>\n",
       "    </tr>\n",
       "    <tr>\n",
       "      <th>3116944</th>\n",
       "      <td>3116944</td>\n",
       "      <td>p</td>\n",
       "      <td>3.20</td>\n",
       "      <td>x</td>\n",
       "      <td>s</td>\n",
       "      <td>g</td>\n",
       "      <td>f</td>\n",
       "      <td>d</td>\n",
       "      <td>c</td>\n",
       "      <td>w</td>\n",
       "      <td>2.82</td>\n",
       "      <td>7.79</td>\n",
       "      <td>NaN</td>\n",
       "      <td>NaN</td>\n",
       "      <td>w</td>\n",
       "      <td>NaN</td>\n",
       "      <td>NaN</td>\n",
       "      <td>f</td>\n",
       "      <td>f</td>\n",
       "      <td>NaN</td>\n",
       "      <td>g</td>\n",
       "      <td>u</td>\n",
       "    </tr>\n",
       "  </tbody>\n",
       "</table>\n",
       "<p>3116945 rows × 22 columns</p>\n",
       "</div>"
      ],
      "text/plain": [
       "              id class  cap-diameter cap-shape cap-surface cap-color  \\\n",
       "0              0     e          8.80         f           s         u   \n",
       "1              1     p          4.51         x           h         o   \n",
       "2              2     e          6.94         f           s         b   \n",
       "3              3     e          3.88         f           y         g   \n",
       "4              4     e          5.85         x           l         w   \n",
       "...          ...   ...           ...       ...         ...       ...   \n",
       "3116940  3116940     e          9.29         f         NaN         n   \n",
       "3116941  3116941     e         10.88         s         NaN         w   \n",
       "3116942  3116942     p          7.82         x           e         e   \n",
       "3116943  3116943     e          9.45         p           i         n   \n",
       "3116944  3116944     p          3.20         x           s         g   \n",
       "\n",
       "        does-bruise-or-bleed gill-attachment gill-spacing gill-color  \\\n",
       "0                          f               a            c          w   \n",
       "1                          f               a            c          n   \n",
       "2                          f               x            c          w   \n",
       "3                          f               s          NaN          g   \n",
       "4                          f               d          NaN          w   \n",
       "...                      ...             ...          ...        ...   \n",
       "3116940                    t             NaN          NaN          w   \n",
       "3116941                    t               d            c          p   \n",
       "3116942                    f               a          NaN          w   \n",
       "3116943                    t               e          NaN          p   \n",
       "3116944                    f               d            c          w   \n",
       "\n",
       "         stem-height  stem-width stem-root stem-surface stem-color veil-type  \\\n",
       "0               4.51       15.39       NaN          NaN          w       NaN   \n",
       "1               4.79        6.48       NaN            y          o       NaN   \n",
       "2               6.85        9.93       NaN            s          n       NaN   \n",
       "3               4.16        6.53       NaN          NaN          w       NaN   \n",
       "4               3.37        8.36       NaN          NaN          w       NaN   \n",
       "...              ...         ...       ...          ...        ...       ...   \n",
       "3116940        12.14       18.81         b          NaN          w         u   \n",
       "3116941         6.65       26.97       NaN          NaN          w       NaN   \n",
       "3116942         9.51       11.06       NaN          NaN          y       NaN   \n",
       "3116943         9.13       17.77       NaN            y          w       NaN   \n",
       "3116944         2.82        7.79       NaN          NaN          w       NaN   \n",
       "\n",
       "        veil-color has-ring ring-type spore-print-color habitat season  \n",
       "0              NaN        f         f               NaN       d      a  \n",
       "1              NaN        t         z               NaN       d      w  \n",
       "2              NaN        f         f               NaN       l      w  \n",
       "3              NaN        f         f               NaN       d      u  \n",
       "4              NaN        f         f               NaN       g      a  \n",
       "...            ...      ...       ...               ...     ...    ...  \n",
       "3116940          w        t         g               NaN       d      u  \n",
       "3116941        NaN        f         f               NaN       d      u  \n",
       "3116942          w        t         z               NaN       d      a  \n",
       "3116943        NaN        t         p               NaN       d      u  \n",
       "3116944        NaN        f         f               NaN       g      u  \n",
       "\n",
       "[3116945 rows x 22 columns]"
      ]
     },
     "execution_count": 4,
     "metadata": {},
     "output_type": "execute_result"
    }
   ],
   "source": [
    "train"
   ]
  },
  {
   "cell_type": "code",
   "execution_count": 5,
   "id": "cffbf054",
   "metadata": {
    "execution": {
     "iopub.execute_input": "2024-08-28T21:29:08.131405Z",
     "iopub.status.busy": "2024-08-28T21:29:08.130764Z",
     "iopub.status.idle": "2024-08-28T21:29:08.157260Z",
     "shell.execute_reply": "2024-08-28T21:29:08.156362Z"
    },
    "papermill": {
     "duration": 0.046526,
     "end_time": "2024-08-28T21:29:08.159461",
     "exception": false,
     "start_time": "2024-08-28T21:29:08.112935",
     "status": "completed"
    },
    "tags": []
   },
   "outputs": [
    {
     "data": {
      "text/html": [
       "<div>\n",
       "<style scoped>\n",
       "    .dataframe tbody tr th:only-of-type {\n",
       "        vertical-align: middle;\n",
       "    }\n",
       "\n",
       "    .dataframe tbody tr th {\n",
       "        vertical-align: top;\n",
       "    }\n",
       "\n",
       "    .dataframe thead th {\n",
       "        text-align: right;\n",
       "    }\n",
       "</style>\n",
       "<table border=\"1\" class=\"dataframe\">\n",
       "  <thead>\n",
       "    <tr style=\"text-align: right;\">\n",
       "      <th></th>\n",
       "      <th>id</th>\n",
       "      <th>cap-diameter</th>\n",
       "      <th>cap-shape</th>\n",
       "      <th>cap-surface</th>\n",
       "      <th>cap-color</th>\n",
       "      <th>does-bruise-or-bleed</th>\n",
       "      <th>gill-attachment</th>\n",
       "      <th>gill-spacing</th>\n",
       "      <th>gill-color</th>\n",
       "      <th>stem-height</th>\n",
       "      <th>stem-width</th>\n",
       "      <th>stem-root</th>\n",
       "      <th>stem-surface</th>\n",
       "      <th>stem-color</th>\n",
       "      <th>veil-type</th>\n",
       "      <th>veil-color</th>\n",
       "      <th>has-ring</th>\n",
       "      <th>ring-type</th>\n",
       "      <th>spore-print-color</th>\n",
       "      <th>habitat</th>\n",
       "      <th>season</th>\n",
       "    </tr>\n",
       "  </thead>\n",
       "  <tbody>\n",
       "    <tr>\n",
       "      <th>0</th>\n",
       "      <td>3116945</td>\n",
       "      <td>8.64</td>\n",
       "      <td>x</td>\n",
       "      <td>NaN</td>\n",
       "      <td>n</td>\n",
       "      <td>t</td>\n",
       "      <td>NaN</td>\n",
       "      <td>NaN</td>\n",
       "      <td>w</td>\n",
       "      <td>11.13</td>\n",
       "      <td>17.12</td>\n",
       "      <td>b</td>\n",
       "      <td>NaN</td>\n",
       "      <td>w</td>\n",
       "      <td>u</td>\n",
       "      <td>w</td>\n",
       "      <td>t</td>\n",
       "      <td>g</td>\n",
       "      <td>NaN</td>\n",
       "      <td>d</td>\n",
       "      <td>a</td>\n",
       "    </tr>\n",
       "    <tr>\n",
       "      <th>1</th>\n",
       "      <td>3116946</td>\n",
       "      <td>6.90</td>\n",
       "      <td>o</td>\n",
       "      <td>t</td>\n",
       "      <td>o</td>\n",
       "      <td>f</td>\n",
       "      <td>NaN</td>\n",
       "      <td>c</td>\n",
       "      <td>y</td>\n",
       "      <td>1.27</td>\n",
       "      <td>10.75</td>\n",
       "      <td>NaN</td>\n",
       "      <td>NaN</td>\n",
       "      <td>n</td>\n",
       "      <td>NaN</td>\n",
       "      <td>NaN</td>\n",
       "      <td>f</td>\n",
       "      <td>f</td>\n",
       "      <td>NaN</td>\n",
       "      <td>d</td>\n",
       "      <td>a</td>\n",
       "    </tr>\n",
       "    <tr>\n",
       "      <th>2</th>\n",
       "      <td>3116947</td>\n",
       "      <td>2.00</td>\n",
       "      <td>b</td>\n",
       "      <td>g</td>\n",
       "      <td>n</td>\n",
       "      <td>f</td>\n",
       "      <td>NaN</td>\n",
       "      <td>c</td>\n",
       "      <td>n</td>\n",
       "      <td>6.18</td>\n",
       "      <td>3.14</td>\n",
       "      <td>NaN</td>\n",
       "      <td>NaN</td>\n",
       "      <td>n</td>\n",
       "      <td>NaN</td>\n",
       "      <td>NaN</td>\n",
       "      <td>f</td>\n",
       "      <td>f</td>\n",
       "      <td>NaN</td>\n",
       "      <td>d</td>\n",
       "      <td>s</td>\n",
       "    </tr>\n",
       "    <tr>\n",
       "      <th>3</th>\n",
       "      <td>3116948</td>\n",
       "      <td>3.47</td>\n",
       "      <td>x</td>\n",
       "      <td>t</td>\n",
       "      <td>n</td>\n",
       "      <td>f</td>\n",
       "      <td>s</td>\n",
       "      <td>c</td>\n",
       "      <td>n</td>\n",
       "      <td>4.98</td>\n",
       "      <td>8.51</td>\n",
       "      <td>NaN</td>\n",
       "      <td>NaN</td>\n",
       "      <td>w</td>\n",
       "      <td>NaN</td>\n",
       "      <td>n</td>\n",
       "      <td>t</td>\n",
       "      <td>z</td>\n",
       "      <td>NaN</td>\n",
       "      <td>d</td>\n",
       "      <td>u</td>\n",
       "    </tr>\n",
       "    <tr>\n",
       "      <th>4</th>\n",
       "      <td>3116949</td>\n",
       "      <td>6.17</td>\n",
       "      <td>x</td>\n",
       "      <td>h</td>\n",
       "      <td>y</td>\n",
       "      <td>f</td>\n",
       "      <td>p</td>\n",
       "      <td>NaN</td>\n",
       "      <td>y</td>\n",
       "      <td>6.73</td>\n",
       "      <td>13.70</td>\n",
       "      <td>NaN</td>\n",
       "      <td>NaN</td>\n",
       "      <td>y</td>\n",
       "      <td>NaN</td>\n",
       "      <td>y</td>\n",
       "      <td>t</td>\n",
       "      <td>NaN</td>\n",
       "      <td>NaN</td>\n",
       "      <td>d</td>\n",
       "      <td>u</td>\n",
       "    </tr>\n",
       "    <tr>\n",
       "      <th>...</th>\n",
       "      <td>...</td>\n",
       "      <td>...</td>\n",
       "      <td>...</td>\n",
       "      <td>...</td>\n",
       "      <td>...</td>\n",
       "      <td>...</td>\n",
       "      <td>...</td>\n",
       "      <td>...</td>\n",
       "      <td>...</td>\n",
       "      <td>...</td>\n",
       "      <td>...</td>\n",
       "      <td>...</td>\n",
       "      <td>...</td>\n",
       "      <td>...</td>\n",
       "      <td>...</td>\n",
       "      <td>...</td>\n",
       "      <td>...</td>\n",
       "      <td>...</td>\n",
       "      <td>...</td>\n",
       "      <td>...</td>\n",
       "      <td>...</td>\n",
       "    </tr>\n",
       "    <tr>\n",
       "      <th>2077959</th>\n",
       "      <td>5194904</td>\n",
       "      <td>0.88</td>\n",
       "      <td>x</td>\n",
       "      <td>g</td>\n",
       "      <td>w</td>\n",
       "      <td>f</td>\n",
       "      <td>a</td>\n",
       "      <td>d</td>\n",
       "      <td>w</td>\n",
       "      <td>2.67</td>\n",
       "      <td>1.35</td>\n",
       "      <td>NaN</td>\n",
       "      <td>NaN</td>\n",
       "      <td>e</td>\n",
       "      <td>NaN</td>\n",
       "      <td>NaN</td>\n",
       "      <td>f</td>\n",
       "      <td>f</td>\n",
       "      <td>NaN</td>\n",
       "      <td>d</td>\n",
       "      <td>u</td>\n",
       "    </tr>\n",
       "    <tr>\n",
       "      <th>2077960</th>\n",
       "      <td>5194905</td>\n",
       "      <td>3.12</td>\n",
       "      <td>x</td>\n",
       "      <td>s</td>\n",
       "      <td>w</td>\n",
       "      <td>f</td>\n",
       "      <td>d</td>\n",
       "      <td>c</td>\n",
       "      <td>w</td>\n",
       "      <td>2.69</td>\n",
       "      <td>7.38</td>\n",
       "      <td>NaN</td>\n",
       "      <td>NaN</td>\n",
       "      <td>w</td>\n",
       "      <td>NaN</td>\n",
       "      <td>NaN</td>\n",
       "      <td>f</td>\n",
       "      <td>f</td>\n",
       "      <td>NaN</td>\n",
       "      <td>g</td>\n",
       "      <td>a</td>\n",
       "    </tr>\n",
       "    <tr>\n",
       "      <th>2077961</th>\n",
       "      <td>5194906</td>\n",
       "      <td>5.73</td>\n",
       "      <td>x</td>\n",
       "      <td>e</td>\n",
       "      <td>e</td>\n",
       "      <td>f</td>\n",
       "      <td>a</td>\n",
       "      <td>NaN</td>\n",
       "      <td>w</td>\n",
       "      <td>6.16</td>\n",
       "      <td>9.74</td>\n",
       "      <td>NaN</td>\n",
       "      <td>NaN</td>\n",
       "      <td>y</td>\n",
       "      <td>NaN</td>\n",
       "      <td>w</td>\n",
       "      <td>t</td>\n",
       "      <td>z</td>\n",
       "      <td>NaN</td>\n",
       "      <td>d</td>\n",
       "      <td>a</td>\n",
       "    </tr>\n",
       "    <tr>\n",
       "      <th>2077962</th>\n",
       "      <td>5194907</td>\n",
       "      <td>5.03</td>\n",
       "      <td>b</td>\n",
       "      <td>g</td>\n",
       "      <td>n</td>\n",
       "      <td>f</td>\n",
       "      <td>a</td>\n",
       "      <td>d</td>\n",
       "      <td>g</td>\n",
       "      <td>6.00</td>\n",
       "      <td>3.46</td>\n",
       "      <td>NaN</td>\n",
       "      <td>s</td>\n",
       "      <td>g</td>\n",
       "      <td>NaN</td>\n",
       "      <td>NaN</td>\n",
       "      <td>f</td>\n",
       "      <td>f</td>\n",
       "      <td>NaN</td>\n",
       "      <td>d</td>\n",
       "      <td>a</td>\n",
       "    </tr>\n",
       "    <tr>\n",
       "      <th>2077963</th>\n",
       "      <td>5194908</td>\n",
       "      <td>15.51</td>\n",
       "      <td>f</td>\n",
       "      <td>NaN</td>\n",
       "      <td>w</td>\n",
       "      <td>f</td>\n",
       "      <td>d</td>\n",
       "      <td>c</td>\n",
       "      <td>y</td>\n",
       "      <td>2.69</td>\n",
       "      <td>17.71</td>\n",
       "      <td>NaN</td>\n",
       "      <td>NaN</td>\n",
       "      <td>w</td>\n",
       "      <td>NaN</td>\n",
       "      <td>NaN</td>\n",
       "      <td>f</td>\n",
       "      <td>f</td>\n",
       "      <td>NaN</td>\n",
       "      <td>d</td>\n",
       "      <td>w</td>\n",
       "    </tr>\n",
       "  </tbody>\n",
       "</table>\n",
       "<p>2077964 rows × 21 columns</p>\n",
       "</div>"
      ],
      "text/plain": [
       "              id  cap-diameter cap-shape cap-surface cap-color  \\\n",
       "0        3116945          8.64         x         NaN         n   \n",
       "1        3116946          6.90         o           t         o   \n",
       "2        3116947          2.00         b           g         n   \n",
       "3        3116948          3.47         x           t         n   \n",
       "4        3116949          6.17         x           h         y   \n",
       "...          ...           ...       ...         ...       ...   \n",
       "2077959  5194904          0.88         x           g         w   \n",
       "2077960  5194905          3.12         x           s         w   \n",
       "2077961  5194906          5.73         x           e         e   \n",
       "2077962  5194907          5.03         b           g         n   \n",
       "2077963  5194908         15.51         f         NaN         w   \n",
       "\n",
       "        does-bruise-or-bleed gill-attachment gill-spacing gill-color  \\\n",
       "0                          t             NaN          NaN          w   \n",
       "1                          f             NaN            c          y   \n",
       "2                          f             NaN            c          n   \n",
       "3                          f               s            c          n   \n",
       "4                          f               p          NaN          y   \n",
       "...                      ...             ...          ...        ...   \n",
       "2077959                    f               a            d          w   \n",
       "2077960                    f               d            c          w   \n",
       "2077961                    f               a          NaN          w   \n",
       "2077962                    f               a            d          g   \n",
       "2077963                    f               d            c          y   \n",
       "\n",
       "         stem-height  stem-width stem-root stem-surface stem-color veil-type  \\\n",
       "0              11.13       17.12         b          NaN          w         u   \n",
       "1               1.27       10.75       NaN          NaN          n       NaN   \n",
       "2               6.18        3.14       NaN          NaN          n       NaN   \n",
       "3               4.98        8.51       NaN          NaN          w       NaN   \n",
       "4               6.73       13.70       NaN          NaN          y       NaN   \n",
       "...              ...         ...       ...          ...        ...       ...   \n",
       "2077959         2.67        1.35       NaN          NaN          e       NaN   \n",
       "2077960         2.69        7.38       NaN          NaN          w       NaN   \n",
       "2077961         6.16        9.74       NaN          NaN          y       NaN   \n",
       "2077962         6.00        3.46       NaN            s          g       NaN   \n",
       "2077963         2.69       17.71       NaN          NaN          w       NaN   \n",
       "\n",
       "        veil-color has-ring ring-type spore-print-color habitat season  \n",
       "0                w        t         g               NaN       d      a  \n",
       "1              NaN        f         f               NaN       d      a  \n",
       "2              NaN        f         f               NaN       d      s  \n",
       "3                n        t         z               NaN       d      u  \n",
       "4                y        t       NaN               NaN       d      u  \n",
       "...            ...      ...       ...               ...     ...    ...  \n",
       "2077959        NaN        f         f               NaN       d      u  \n",
       "2077960        NaN        f         f               NaN       g      a  \n",
       "2077961          w        t         z               NaN       d      a  \n",
       "2077962        NaN        f         f               NaN       d      a  \n",
       "2077963        NaN        f         f               NaN       d      w  \n",
       "\n",
       "[2077964 rows x 21 columns]"
      ]
     },
     "execution_count": 5,
     "metadata": {},
     "output_type": "execute_result"
    }
   ],
   "source": [
    "test"
   ]
  },
  {
   "cell_type": "code",
   "execution_count": 6,
   "id": "5d1cb7e7",
   "metadata": {
    "execution": {
     "iopub.execute_input": "2024-08-28T21:29:08.196099Z",
     "iopub.status.busy": "2024-08-28T21:29:08.195368Z",
     "iopub.status.idle": "2024-08-28T21:29:08.199408Z",
     "shell.execute_reply": "2024-08-28T21:29:08.198529Z"
    },
    "papermill": {
     "duration": 0.024594,
     "end_time": "2024-08-28T21:29:08.201536",
     "exception": false,
     "start_time": "2024-08-28T21:29:08.176942",
     "status": "completed"
    },
    "tags": []
   },
   "outputs": [],
   "source": [
    "# set seed for reproducibility\n",
    "#np.random.seed(0) "
   ]
  },
  {
   "cell_type": "markdown",
   "id": "7c5462f2",
   "metadata": {
    "papermill": {
     "duration": 0.016739,
     "end_time": "2024-08-28T21:29:08.235423",
     "exception": false,
     "start_time": "2024-08-28T21:29:08.218684",
     "status": "completed"
    },
    "tags": []
   },
   "source": [
    "# understanding the data"
   ]
  },
  {
   "cell_type": "code",
   "execution_count": 7,
   "id": "788c2f55",
   "metadata": {
    "execution": {
     "iopub.execute_input": "2024-08-28T21:29:08.271081Z",
     "iopub.status.busy": "2024-08-28T21:29:08.270434Z",
     "iopub.status.idle": "2024-08-28T21:29:08.276783Z",
     "shell.execute_reply": "2024-08-28T21:29:08.275903Z"
    },
    "papermill": {
     "duration": 0.026704,
     "end_time": "2024-08-28T21:29:08.278959",
     "exception": false,
     "start_time": "2024-08-28T21:29:08.252255",
     "status": "completed"
    },
    "tags": []
   },
   "outputs": [
    {
     "data": {
      "text/plain": [
       "(3116945, 22)"
      ]
     },
     "execution_count": 7,
     "metadata": {},
     "output_type": "execute_result"
    }
   ],
   "source": [
    "train.shape"
   ]
  },
  {
   "cell_type": "markdown",
   "id": "9f679f36",
   "metadata": {
    "papermill": {
     "duration": 0.016683,
     "end_time": "2024-08-28T21:29:08.312746",
     "exception": false,
     "start_time": "2024-08-28T21:29:08.296063",
     "status": "completed"
    },
    "tags": []
   },
   "source": [
    "There are over 3 million rows of data with 22 columns"
   ]
  },
  {
   "cell_type": "code",
   "execution_count": 8,
   "id": "88f36918",
   "metadata": {
    "execution": {
     "iopub.execute_input": "2024-08-28T21:29:08.348500Z",
     "iopub.status.busy": "2024-08-28T21:29:08.347614Z",
     "iopub.status.idle": "2024-08-28T21:29:08.354013Z",
     "shell.execute_reply": "2024-08-28T21:29:08.353165Z"
    },
    "papermill": {
     "duration": 0.026285,
     "end_time": "2024-08-28T21:29:08.356069",
     "exception": false,
     "start_time": "2024-08-28T21:29:08.329784",
     "status": "completed"
    },
    "tags": []
   },
   "outputs": [
    {
     "data": {
      "text/plain": [
       "Index(['id', 'class', 'cap-diameter', 'cap-shape', 'cap-surface', 'cap-color',\n",
       "       'does-bruise-or-bleed', 'gill-attachment', 'gill-spacing', 'gill-color',\n",
       "       'stem-height', 'stem-width', 'stem-root', 'stem-surface', 'stem-color',\n",
       "       'veil-type', 'veil-color', 'has-ring', 'ring-type', 'spore-print-color',\n",
       "       'habitat', 'season'],\n",
       "      dtype='object')"
      ]
     },
     "execution_count": 8,
     "metadata": {},
     "output_type": "execute_result"
    }
   ],
   "source": [
    "train.columns"
   ]
  },
  {
   "cell_type": "code",
   "execution_count": 9,
   "id": "7e6fe45a",
   "metadata": {
    "execution": {
     "iopub.execute_input": "2024-08-28T21:29:08.393424Z",
     "iopub.status.busy": "2024-08-28T21:29:08.392391Z",
     "iopub.status.idle": "2024-08-28T21:29:08.401292Z",
     "shell.execute_reply": "2024-08-28T21:29:08.400344Z"
    },
    "papermill": {
     "duration": 0.029389,
     "end_time": "2024-08-28T21:29:08.403217",
     "exception": false,
     "start_time": "2024-08-28T21:29:08.373828",
     "status": "completed"
    },
    "tags": []
   },
   "outputs": [
    {
     "data": {
      "text/plain": [
       "id                        int64\n",
       "class                    object\n",
       "cap-diameter            float64\n",
       "cap-shape                object\n",
       "cap-surface              object\n",
       "cap-color                object\n",
       "does-bruise-or-bleed     object\n",
       "gill-attachment          object\n",
       "gill-spacing             object\n",
       "gill-color               object\n",
       "stem-height             float64\n",
       "stem-width              float64\n",
       "stem-root                object\n",
       "stem-surface             object\n",
       "stem-color               object\n",
       "veil-type                object\n",
       "veil-color               object\n",
       "has-ring                 object\n",
       "ring-type                object\n",
       "spore-print-color        object\n",
       "habitat                  object\n",
       "season                   object\n",
       "dtype: object"
      ]
     },
     "execution_count": 9,
     "metadata": {},
     "output_type": "execute_result"
    }
   ],
   "source": [
    "train.dtypes"
   ]
  },
  {
   "cell_type": "markdown",
   "id": "3bea75e7",
   "metadata": {
    "papermill": {
     "duration": 0.017113,
     "end_time": "2024-08-28T21:29:08.437987",
     "exception": false,
     "start_time": "2024-08-28T21:29:08.420874",
     "status": "completed"
    },
    "tags": []
   },
   "source": [
    "## missing values"
   ]
  },
  {
   "cell_type": "code",
   "execution_count": 10,
   "id": "05f9751f",
   "metadata": {
    "execution": {
     "iopub.execute_input": "2024-08-28T21:29:08.474859Z",
     "iopub.status.busy": "2024-08-28T21:29:08.474183Z",
     "iopub.status.idle": "2024-08-28T21:29:12.697868Z",
     "shell.execute_reply": "2024-08-28T21:29:12.696914Z"
    },
    "papermill": {
     "duration": 4.244587,
     "end_time": "2024-08-28T21:29:12.699969",
     "exception": false,
     "start_time": "2024-08-28T21:29:08.455382",
     "status": "completed"
    },
    "tags": []
   },
   "outputs": [
    {
     "data": {
      "text/plain": [
       "id                            0\n",
       "class                         0\n",
       "cap-diameter                  4\n",
       "cap-shape                    40\n",
       "cap-surface              671023\n",
       "cap-color                    12\n",
       "does-bruise-or-bleed          8\n",
       "gill-attachment          523936\n",
       "gill-spacing            1258435\n",
       "gill-color                   57\n",
       "stem-height                   0\n",
       "stem-width                    0\n",
       "stem-root               2757023\n",
       "stem-surface            1980861\n",
       "stem-color                   38\n",
       "veil-type               2957493\n",
       "veil-color              2740947\n",
       "has-ring                     24\n",
       "ring-type                128880\n",
       "spore-print-color       2849682\n",
       "habitat                      45\n",
       "season                        0\n",
       "dtype: int64"
      ]
     },
     "execution_count": 10,
     "metadata": {},
     "output_type": "execute_result"
    }
   ],
   "source": [
    "# get the number of missing data points per column\n",
    "missing_values_count = train.isna().sum()\n",
    "missing_values_count"
   ]
  },
  {
   "cell_type": "code",
   "execution_count": 11,
   "id": "e53e625a",
   "metadata": {
    "execution": {
     "iopub.execute_input": "2024-08-28T21:29:12.737147Z",
     "iopub.status.busy": "2024-08-28T21:29:12.736323Z",
     "iopub.status.idle": "2024-08-28T21:29:12.742158Z",
     "shell.execute_reply": "2024-08-28T21:29:12.741280Z"
    },
    "papermill": {
     "duration": 0.027034,
     "end_time": "2024-08-28T21:29:12.744554",
     "exception": false,
     "start_time": "2024-08-28T21:29:12.717520",
     "status": "completed"
    },
    "tags": []
   },
   "outputs": [
    {
     "name": "stdout",
     "output_type": "stream",
     "text": [
      "23.141114719118182\n"
     ]
    }
   ],
   "source": [
    "# how many total missing values do we have?\n",
    "total_cells = np.product(train.shape)\n",
    "total_missing = missing_values_count.sum()\n",
    "\n",
    "# percent of data that is missing\n",
    "percent_missing = (total_missing/total_cells) * 100\n",
    "print(percent_missing)"
   ]
  },
  {
   "cell_type": "markdown",
   "id": "45e0108b",
   "metadata": {
    "papermill": {
     "duration": 0.017285,
     "end_time": "2024-08-28T21:29:12.779568",
     "exception": false,
     "start_time": "2024-08-28T21:29:12.762283",
     "status": "completed"
    },
    "tags": []
   },
   "source": [
    "# data preprocessing\n",
    "## defining X and y"
   ]
  },
  {
   "cell_type": "code",
   "execution_count": 12,
   "id": "5242526f",
   "metadata": {
    "execution": {
     "iopub.execute_input": "2024-08-28T21:29:12.816559Z",
     "iopub.status.busy": "2024-08-28T21:29:12.815872Z",
     "iopub.status.idle": "2024-08-28T21:29:15.657930Z",
     "shell.execute_reply": "2024-08-28T21:29:15.656879Z"
    },
    "papermill": {
     "duration": 2.863403,
     "end_time": "2024-08-28T21:29:15.660488",
     "exception": false,
     "start_time": "2024-08-28T21:29:12.797085",
     "status": "completed"
    },
    "tags": []
   },
   "outputs": [
    {
     "name": "stderr",
     "output_type": "stream",
     "text": [
      "/tmp/ipykernel_23/445347547.py:2: FutureWarning: Downcasting behavior in `replace` is deprecated and will be removed in a future version. To retain the old behavior, explicitly call `result.infer_objects(copy=False)`. To opt-in to the future behavior, set `pd.set_option('future.no_silent_downcasting', True)`\n",
      "  train['class'] = train['class'].replace(['e', 'p'], [0, 1])\n"
     ]
    }
   ],
   "source": [
    "#Modification of target\n",
    "train['class'] = train['class'].replace(['e', 'p'], [0, 1])\n",
    "# Separate target from predictors\n",
    "y = train['class']\n",
    "X_train = train.drop(['class','id'], axis=1)\n",
    "X_test = test.drop(['id'], axis=1)\n",
    "# Select categorical columns names\n",
    "categorical_cols_name = [cname for cname in X_train.columns if X_train[cname].dtype == \"object\"]\n",
    "# Select numerical columns names\n",
    "numerical_cols_name = [cname for cname in X_train.columns if X_train[cname].dtype in ['int64', 'float64']]"
   ]
  },
  {
   "cell_type": "code",
   "execution_count": 13,
   "id": "a9d67224",
   "metadata": {
    "execution": {
     "iopub.execute_input": "2024-08-28T21:29:15.698914Z",
     "iopub.status.busy": "2024-08-28T21:29:15.697979Z",
     "iopub.status.idle": "2024-08-28T21:29:15.705515Z",
     "shell.execute_reply": "2024-08-28T21:29:15.704554Z"
    },
    "papermill": {
     "duration": 0.029086,
     "end_time": "2024-08-28T21:29:15.707709",
     "exception": false,
     "start_time": "2024-08-28T21:29:15.678623",
     "status": "completed"
    },
    "tags": []
   },
   "outputs": [
    {
     "data": {
      "text/plain": [
       "0          0\n",
       "1          1\n",
       "2          0\n",
       "3          0\n",
       "4          0\n",
       "          ..\n",
       "3116940    0\n",
       "3116941    0\n",
       "3116942    1\n",
       "3116943    0\n",
       "3116944    1\n",
       "Name: class, Length: 3116945, dtype: int64"
      ]
     },
     "execution_count": 13,
     "metadata": {},
     "output_type": "execute_result"
    }
   ],
   "source": [
    "y"
   ]
  },
  {
   "cell_type": "code",
   "execution_count": 14,
   "id": "5fb0eb8c",
   "metadata": {
    "execution": {
     "iopub.execute_input": "2024-08-28T21:29:15.745716Z",
     "iopub.status.busy": "2024-08-28T21:29:15.744916Z",
     "iopub.status.idle": "2024-08-28T21:29:15.749798Z",
     "shell.execute_reply": "2024-08-28T21:29:15.748842Z"
    },
    "papermill": {
     "duration": 0.026298,
     "end_time": "2024-08-28T21:29:15.752155",
     "exception": false,
     "start_time": "2024-08-28T21:29:15.725857",
     "status": "completed"
    },
    "tags": []
   },
   "outputs": [
    {
     "name": "stdout",
     "output_type": "stream",
     "text": [
      "['cap-diameter', 'stem-height', 'stem-width']\n"
     ]
    }
   ],
   "source": [
    "print(numerical_cols_name)"
   ]
  },
  {
   "cell_type": "code",
   "execution_count": 15,
   "id": "ec05fc7d",
   "metadata": {
    "execution": {
     "iopub.execute_input": "2024-08-28T21:29:15.789924Z",
     "iopub.status.busy": "2024-08-28T21:29:15.789396Z",
     "iopub.status.idle": "2024-08-28T21:29:16.936166Z",
     "shell.execute_reply": "2024-08-28T21:29:16.935339Z"
    },
    "papermill": {
     "duration": 1.1685,
     "end_time": "2024-08-28T21:29:16.938552",
     "exception": false,
     "start_time": "2024-08-28T21:29:15.770052",
     "status": "completed"
    },
    "tags": []
   },
   "outputs": [],
   "source": [
    "numerical_cols_train = X_train[numerical_cols_name].copy()\n",
    "categorical_cols_train = X_train[categorical_cols_name].copy()"
   ]
  },
  {
   "cell_type": "code",
   "execution_count": 16,
   "id": "82e8317f",
   "metadata": {
    "execution": {
     "iopub.execute_input": "2024-08-28T21:29:16.976361Z",
     "iopub.status.busy": "2024-08-28T21:29:16.975708Z",
     "iopub.status.idle": "2024-08-28T21:29:17.747290Z",
     "shell.execute_reply": "2024-08-28T21:29:17.746442Z"
    },
    "papermill": {
     "duration": 0.793321,
     "end_time": "2024-08-28T21:29:17.749891",
     "exception": false,
     "start_time": "2024-08-28T21:29:16.956570",
     "status": "completed"
    },
    "tags": []
   },
   "outputs": [],
   "source": [
    "numerical_cols_test = X_test[numerical_cols_name].copy()\n",
    "categorical_cols_test = X_test[categorical_cols_name].copy()"
   ]
  },
  {
   "cell_type": "code",
   "execution_count": 17,
   "id": "90fa195f",
   "metadata": {
    "execution": {
     "iopub.execute_input": "2024-08-28T21:29:17.787866Z",
     "iopub.status.busy": "2024-08-28T21:29:17.787200Z",
     "iopub.status.idle": "2024-08-28T21:29:17.804261Z",
     "shell.execute_reply": "2024-08-28T21:29:17.803340Z"
    },
    "papermill": {
     "duration": 0.038421,
     "end_time": "2024-08-28T21:29:17.806411",
     "exception": false,
     "start_time": "2024-08-28T21:29:17.767990",
     "status": "completed"
    },
    "tags": []
   },
   "outputs": [
    {
     "name": "stdout",
     "output_type": "stream",
     "text": [
      "<class 'pandas.core.frame.DataFrame'>\n",
      "RangeIndex: 2077964 entries, 0 to 2077963\n",
      "Data columns (total 3 columns):\n",
      " #   Column        Dtype  \n",
      "---  ------        -----  \n",
      " 0   cap-diameter  float64\n",
      " 1   stem-height   float64\n",
      " 2   stem-width    float64\n",
      "dtypes: float64(3)\n",
      "memory usage: 47.6 MB\n"
     ]
    }
   ],
   "source": [
    "numerical_cols_test.info()"
   ]
  },
  {
   "cell_type": "code",
   "execution_count": 18,
   "id": "3a9e65a2",
   "metadata": {
    "execution": {
     "iopub.execute_input": "2024-08-28T21:29:17.844012Z",
     "iopub.status.busy": "2024-08-28T21:29:17.843327Z",
     "iopub.status.idle": "2024-08-28T21:29:17.853687Z",
     "shell.execute_reply": "2024-08-28T21:29:17.852620Z"
    },
    "papermill": {
     "duration": 0.031635,
     "end_time": "2024-08-28T21:29:17.855913",
     "exception": false,
     "start_time": "2024-08-28T21:29:17.824278",
     "status": "completed"
    },
    "tags": []
   },
   "outputs": [
    {
     "name": "stdout",
     "output_type": "stream",
     "text": [
      "<class 'pandas.core.frame.DataFrame'>\n",
      "RangeIndex: 2077964 entries, 0 to 2077963\n",
      "Data columns (total 17 columns):\n",
      " #   Column                Dtype \n",
      "---  ------                ----- \n",
      " 0   cap-shape             object\n",
      " 1   cap-surface           object\n",
      " 2   cap-color             object\n",
      " 3   does-bruise-or-bleed  object\n",
      " 4   gill-attachment       object\n",
      " 5   gill-spacing          object\n",
      " 6   gill-color            object\n",
      " 7   stem-root             object\n",
      " 8   stem-surface          object\n",
      " 9   stem-color            object\n",
      " 10  veil-type             object\n",
      " 11  veil-color            object\n",
      " 12  has-ring              object\n",
      " 13  ring-type             object\n",
      " 14  spore-print-color     object\n",
      " 15  habitat               object\n",
      " 16  season                object\n",
      "dtypes: object(17)\n",
      "memory usage: 269.5+ MB\n"
     ]
    }
   ],
   "source": [
    "categorical_cols_test.info()"
   ]
  },
  {
   "cell_type": "code",
   "execution_count": 19,
   "id": "48270a2f",
   "metadata": {
    "execution": {
     "iopub.execute_input": "2024-08-28T21:29:17.894637Z",
     "iopub.status.busy": "2024-08-28T21:29:17.894004Z",
     "iopub.status.idle": "2024-08-28T21:29:17.969083Z",
     "shell.execute_reply": "2024-08-28T21:29:17.968074Z"
    },
    "papermill": {
     "duration": 0.096878,
     "end_time": "2024-08-28T21:29:17.971250",
     "exception": false,
     "start_time": "2024-08-28T21:29:17.874372",
     "status": "completed"
    },
    "tags": []
   },
   "outputs": [
    {
     "name": "stdout",
     "output_type": "stream",
     "text": [
      "cap-diameter    3745\n",
      "stem-height     2664\n",
      "stem-width      5610\n",
      "dtype: int64\n"
     ]
    }
   ],
   "source": [
    "# Count unique values\n",
    "unique_values = numerical_cols_test.nunique()\n",
    "print(unique_values)"
   ]
  },
  {
   "cell_type": "markdown",
   "id": "763e8abb",
   "metadata": {
    "papermill": {
     "duration": 0.017901,
     "end_time": "2024-08-28T21:29:18.007416",
     "exception": false,
     "start_time": "2024-08-28T21:29:17.989515",
     "status": "completed"
    },
    "tags": []
   },
   "source": [
    "## scaling the numerical columns"
   ]
  },
  {
   "cell_type": "code",
   "execution_count": 20,
   "id": "0d2b0acd",
   "metadata": {
    "execution": {
     "iopub.execute_input": "2024-08-28T21:29:18.046035Z",
     "iopub.status.busy": "2024-08-28T21:29:18.044860Z",
     "iopub.status.idle": "2024-08-28T21:29:18.297414Z",
     "shell.execute_reply": "2024-08-28T21:29:18.296583Z"
    },
    "papermill": {
     "duration": 0.274427,
     "end_time": "2024-08-28T21:29:18.300002",
     "exception": false,
     "start_time": "2024-08-28T21:29:18.025575",
     "status": "completed"
    },
    "tags": []
   },
   "outputs": [],
   "source": [
    "from sklearn.preprocessing import MinMaxScaler\n",
    "# Initialize the MinMaxScaler\n",
    "scaler = MinMaxScaler()\n",
    "\n",
    "# Fit and transform the data\n",
    "norm_num_cols_train = pd.DataFrame(scaler.fit_transform(numerical_cols_train), columns=numerical_cols_train.columns)\n",
    "norm_num_cols_test = pd.DataFrame(scaler.transform(numerical_cols_test), columns=numerical_cols_test.columns)"
   ]
  },
  {
   "cell_type": "markdown",
   "id": "650f9396",
   "metadata": {
    "papermill": {
     "duration": 0.017875,
     "end_time": "2024-08-28T21:29:18.336252",
     "exception": false,
     "start_time": "2024-08-28T21:29:18.318377",
     "status": "completed"
    },
    "tags": []
   },
   "source": [
    "## encoding the categorical data"
   ]
  },
  {
   "cell_type": "code",
   "execution_count": 21,
   "id": "e24538cb",
   "metadata": {
    "execution": {
     "iopub.execute_input": "2024-08-28T21:29:18.374333Z",
     "iopub.status.busy": "2024-08-28T21:29:18.373924Z",
     "iopub.status.idle": "2024-08-28T21:29:18.379961Z",
     "shell.execute_reply": "2024-08-28T21:29:18.379039Z"
    },
    "papermill": {
     "duration": 0.027347,
     "end_time": "2024-08-28T21:29:18.381936",
     "exception": false,
     "start_time": "2024-08-28T21:29:18.354589",
     "status": "completed"
    },
    "tags": []
   },
   "outputs": [],
   "source": [
    "#frequency encoding\n",
    "def freq_encoding_train(categorical_cols):\n",
    "    categorical_cols_encoded = categorical_cols.copy()\n",
    "    for column in categorical_cols_name:\n",
    "        categorical_cols_encoded[column] = categorical_cols_train[column].map(categorical_cols_train[column].value_counts(normalize=True))\n",
    "    return(categorical_cols_encoded)"
   ]
  },
  {
   "cell_type": "code",
   "execution_count": 22,
   "id": "2156ccc7",
   "metadata": {
    "execution": {
     "iopub.execute_input": "2024-08-28T21:29:18.420707Z",
     "iopub.status.busy": "2024-08-28T21:29:18.420052Z",
     "iopub.status.idle": "2024-08-28T21:29:18.425234Z",
     "shell.execute_reply": "2024-08-28T21:29:18.424373Z"
    },
    "papermill": {
     "duration": 0.026953,
     "end_time": "2024-08-28T21:29:18.427262",
     "exception": false,
     "start_time": "2024-08-28T21:29:18.400309",
     "status": "completed"
    },
    "tags": []
   },
   "outputs": [],
   "source": [
    "#frequency encoding\n",
    "def freq_encoding_test(categorical_cols):\n",
    "    categorical_cols_encoded = categorical_cols.copy()\n",
    "    for column in categorical_cols_name:\n",
    "        categorical_cols_encoded[column] = categorical_cols_test[column].map(categorical_cols_test[column].value_counts(normalize=True))\n",
    "    return(categorical_cols_encoded)"
   ]
  },
  {
   "cell_type": "code",
   "execution_count": 23,
   "id": "1ed0b1d0",
   "metadata": {
    "execution": {
     "iopub.execute_input": "2024-08-28T21:29:18.465519Z",
     "iopub.status.busy": "2024-08-28T21:29:18.465126Z",
     "iopub.status.idle": "2024-08-28T21:29:34.284994Z",
     "shell.execute_reply": "2024-08-28T21:29:34.284086Z"
    },
    "papermill": {
     "duration": 15.841907,
     "end_time": "2024-08-28T21:29:34.287570",
     "exception": false,
     "start_time": "2024-08-28T21:29:18.445663",
     "status": "completed"
    },
    "tags": []
   },
   "outputs": [],
   "source": [
    "encoded_cat_train = freq_encoding_train(categorical_cols_train)\n",
    "encoded_cat_test = freq_encoding_test(categorical_cols_test)"
   ]
  },
  {
   "cell_type": "code",
   "execution_count": 24,
   "id": "0e52a3f2",
   "metadata": {
    "execution": {
     "iopub.execute_input": "2024-08-28T21:29:34.337722Z",
     "iopub.status.busy": "2024-08-28T21:29:34.337316Z",
     "iopub.status.idle": "2024-08-28T21:29:35.197935Z",
     "shell.execute_reply": "2024-08-28T21:29:35.196251Z"
    },
    "papermill": {
     "duration": 0.890567,
     "end_time": "2024-08-28T21:29:35.201350",
     "exception": false,
     "start_time": "2024-08-28T21:29:34.310783",
     "status": "completed"
    },
    "tags": []
   },
   "outputs": [],
   "source": [
    "# Concatenate dataframes along rows (axis=0)\n",
    "encoded_df_train = pd.concat([norm_num_cols_train, encoded_cat_train], axis=1)\n",
    "encoded_df_test = pd.concat([norm_num_cols_test, encoded_cat_test], axis=1)"
   ]
  },
  {
   "cell_type": "code",
   "execution_count": 25,
   "id": "cce73ed1",
   "metadata": {
    "execution": {
     "iopub.execute_input": "2024-08-28T21:29:35.245383Z",
     "iopub.status.busy": "2024-08-28T21:29:35.244995Z",
     "iopub.status.idle": "2024-08-28T21:29:35.251454Z",
     "shell.execute_reply": "2024-08-28T21:29:35.250441Z"
    },
    "papermill": {
     "duration": 0.02817,
     "end_time": "2024-08-28T21:29:35.253543",
     "exception": false,
     "start_time": "2024-08-28T21:29:35.225373",
     "status": "completed"
    },
    "tags": []
   },
   "outputs": [
    {
     "data": {
      "text/plain": [
       "(3116945, 20)"
      ]
     },
     "execution_count": 25,
     "metadata": {},
     "output_type": "execute_result"
    }
   ],
   "source": [
    "encoded_df_train.shape"
   ]
  },
  {
   "cell_type": "code",
   "execution_count": 26,
   "id": "49611697",
   "metadata": {
    "execution": {
     "iopub.execute_input": "2024-08-28T21:29:35.293185Z",
     "iopub.status.busy": "2024-08-28T21:29:35.292055Z",
     "iopub.status.idle": "2024-08-28T21:29:35.299326Z",
     "shell.execute_reply": "2024-08-28T21:29:35.298429Z"
    },
    "papermill": {
     "duration": 0.029375,
     "end_time": "2024-08-28T21:29:35.301436",
     "exception": false,
     "start_time": "2024-08-28T21:29:35.272061",
     "status": "completed"
    },
    "tags": []
   },
   "outputs": [
    {
     "data": {
      "text/plain": [
       "(2077964, 20)"
      ]
     },
     "execution_count": 26,
     "metadata": {},
     "output_type": "execute_result"
    }
   ],
   "source": [
    "encoded_df_test.shape"
   ]
  },
  {
   "cell_type": "markdown",
   "id": "2237249f",
   "metadata": {
    "papermill": {
     "duration": 0.018327,
     "end_time": "2024-08-28T21:29:35.338244",
     "exception": false,
     "start_time": "2024-08-28T21:29:35.319917",
     "status": "completed"
    },
    "tags": []
   },
   "source": [
    "## imputing missing values"
   ]
  },
  {
   "cell_type": "code",
   "execution_count": 27,
   "id": "09dd6ca1",
   "metadata": {
    "execution": {
     "iopub.execute_input": "2024-08-28T21:29:35.427350Z",
     "iopub.status.busy": "2024-08-28T21:29:35.426247Z",
     "iopub.status.idle": "2024-08-28T21:29:38.313975Z",
     "shell.execute_reply": "2024-08-28T21:29:38.313110Z"
    },
    "papermill": {
     "duration": 2.959326,
     "end_time": "2024-08-28T21:29:38.316279",
     "exception": false,
     "start_time": "2024-08-28T21:29:35.356953",
     "status": "completed"
    },
    "tags": []
   },
   "outputs": [],
   "source": [
    "from sklearn.impute import SimpleImputer\n",
    "\n",
    "# Imputation\n",
    "my_imputer = SimpleImputer()\n",
    "imputed_encoded_df_train = pd.DataFrame(my_imputer.fit_transform(encoded_df_train))\n",
    "imputed_encoded_df_test = pd.DataFrame(my_imputer.transform(encoded_df_test))\n",
    "# Imputation removed column names; put them back\n",
    "imputed_encoded_df_train.columns = encoded_df_train.columns\n",
    "imputed_encoded_df_test.columns = encoded_df_test.columns"
   ]
  },
  {
   "cell_type": "code",
   "execution_count": 28,
   "id": "d9215074",
   "metadata": {
    "execution": {
     "iopub.execute_input": "2024-08-28T21:29:38.355834Z",
     "iopub.status.busy": "2024-08-28T21:29:38.355066Z",
     "iopub.status.idle": "2024-08-28T21:29:38.383422Z",
     "shell.execute_reply": "2024-08-28T21:29:38.382395Z"
    },
    "papermill": {
     "duration": 0.051312,
     "end_time": "2024-08-28T21:29:38.386145",
     "exception": false,
     "start_time": "2024-08-28T21:29:38.334833",
     "status": "completed"
    },
    "tags": []
   },
   "outputs": [
    {
     "data": {
      "text/html": [
       "<div>\n",
       "<style scoped>\n",
       "    .dataframe tbody tr th:only-of-type {\n",
       "        vertical-align: middle;\n",
       "    }\n",
       "\n",
       "    .dataframe tbody tr th {\n",
       "        vertical-align: top;\n",
       "    }\n",
       "\n",
       "    .dataframe thead th {\n",
       "        text-align: right;\n",
       "    }\n",
       "</style>\n",
       "<table border=\"1\" class=\"dataframe\">\n",
       "  <thead>\n",
       "    <tr style=\"text-align: right;\">\n",
       "      <th></th>\n",
       "      <th>cap-diameter</th>\n",
       "      <th>stem-height</th>\n",
       "      <th>stem-width</th>\n",
       "      <th>cap-shape</th>\n",
       "      <th>cap-surface</th>\n",
       "      <th>cap-color</th>\n",
       "      <th>does-bruise-or-bleed</th>\n",
       "      <th>gill-attachment</th>\n",
       "      <th>gill-spacing</th>\n",
       "      <th>gill-color</th>\n",
       "      <th>stem-root</th>\n",
       "      <th>stem-surface</th>\n",
       "      <th>stem-color</th>\n",
       "      <th>veil-type</th>\n",
       "      <th>veil-color</th>\n",
       "      <th>has-ring</th>\n",
       "      <th>ring-type</th>\n",
       "      <th>spore-print-color</th>\n",
       "      <th>habitat</th>\n",
       "      <th>season</th>\n",
       "    </tr>\n",
       "  </thead>\n",
       "  <tbody>\n",
       "    <tr>\n",
       "      <th>0</th>\n",
       "      <td>0.108755</td>\n",
       "      <td>0.050834</td>\n",
       "      <td>0.149563</td>\n",
       "      <td>0.216958</td>\n",
       "      <td>0.157393</td>\n",
       "      <td>0.023476</td>\n",
       "      <td>0.824445</td>\n",
       "      <td>0.249145</td>\n",
       "      <td>0.716194</td>\n",
       "      <td>0.298868</td>\n",
       "      <td>0.341732</td>\n",
       "      <td>0.199210</td>\n",
       "      <td>0.383918</td>\n",
       "      <td>0.999009</td>\n",
       "      <td>0.567025</td>\n",
       "      <td>0.759987</td>\n",
       "      <td>0.829021</td>\n",
       "      <td>0.270621</td>\n",
       "      <td>0.698634</td>\n",
       "      <td>0.495139</td>\n",
       "    </tr>\n",
       "    <tr>\n",
       "      <th>1</th>\n",
       "      <td>0.055556</td>\n",
       "      <td>0.053990</td>\n",
       "      <td>0.062974</td>\n",
       "      <td>0.460722</td>\n",
       "      <td>0.116300</td>\n",
       "      <td>0.057379</td>\n",
       "      <td>0.824445</td>\n",
       "      <td>0.249145</td>\n",
       "      <td>0.716194</td>\n",
       "      <td>0.174336</td>\n",
       "      <td>0.341732</td>\n",
       "      <td>0.224895</td>\n",
       "      <td>0.035786</td>\n",
       "      <td>0.999009</td>\n",
       "      <td>0.567025</td>\n",
       "      <td>0.239975</td>\n",
       "      <td>0.038078</td>\n",
       "      <td>0.270621</td>\n",
       "      <td>0.698634</td>\n",
       "      <td>0.089251</td>\n",
       "    </tr>\n",
       "    <tr>\n",
       "      <th>2</th>\n",
       "      <td>0.085689</td>\n",
       "      <td>0.077209</td>\n",
       "      <td>0.096501</td>\n",
       "      <td>0.216958</td>\n",
       "      <td>0.157393</td>\n",
       "      <td>0.019671</td>\n",
       "      <td>0.824445</td>\n",
       "      <td>0.139173</td>\n",
       "      <td>0.716194</td>\n",
       "      <td>0.298868</td>\n",
       "      <td>0.341732</td>\n",
       "      <td>0.288368</td>\n",
       "      <td>0.321942</td>\n",
       "      <td>0.999009</td>\n",
       "      <td>0.567025</td>\n",
       "      <td>0.759987</td>\n",
       "      <td>0.829021</td>\n",
       "      <td>0.270621</td>\n",
       "      <td>0.055148</td>\n",
       "      <td>0.089251</td>\n",
       "    </tr>\n",
       "    <tr>\n",
       "      <th>3</th>\n",
       "      <td>0.047743</td>\n",
       "      <td>0.046889</td>\n",
       "      <td>0.063460</td>\n",
       "      <td>0.216958</td>\n",
       "      <td>0.134030</td>\n",
       "      <td>0.067639</td>\n",
       "      <td>0.824445</td>\n",
       "      <td>0.113937</td>\n",
       "      <td>0.565238</td>\n",
       "      <td>0.068069</td>\n",
       "      <td>0.341732</td>\n",
       "      <td>0.199210</td>\n",
       "      <td>0.383918</td>\n",
       "      <td>0.999009</td>\n",
       "      <td>0.567025</td>\n",
       "      <td>0.759987</td>\n",
       "      <td>0.829021</td>\n",
       "      <td>0.270621</td>\n",
       "      <td>0.698634</td>\n",
       "      <td>0.370102</td>\n",
       "    </tr>\n",
       "    <tr>\n",
       "      <th>4</th>\n",
       "      <td>0.072173</td>\n",
       "      <td>0.037985</td>\n",
       "      <td>0.081244</td>\n",
       "      <td>0.460722</td>\n",
       "      <td>0.018340</td>\n",
       "      <td>0.121736</td>\n",
       "      <td>0.824445</td>\n",
       "      <td>0.227240</td>\n",
       "      <td>0.565238</td>\n",
       "      <td>0.298868</td>\n",
       "      <td>0.341732</td>\n",
       "      <td>0.199210</td>\n",
       "      <td>0.383918</td>\n",
       "      <td>0.999009</td>\n",
       "      <td>0.567025</td>\n",
       "      <td>0.759987</td>\n",
       "      <td>0.829021</td>\n",
       "      <td>0.270621</td>\n",
       "      <td>0.145949</td>\n",
       "      <td>0.495139</td>\n",
       "    </tr>\n",
       "    <tr>\n",
       "      <th>...</th>\n",
       "      <td>...</td>\n",
       "      <td>...</td>\n",
       "      <td>...</td>\n",
       "      <td>...</td>\n",
       "      <td>...</td>\n",
       "      <td>...</td>\n",
       "      <td>...</td>\n",
       "      <td>...</td>\n",
       "      <td>...</td>\n",
       "      <td>...</td>\n",
       "      <td>...</td>\n",
       "      <td>...</td>\n",
       "      <td>...</td>\n",
       "      <td>...</td>\n",
       "      <td>...</td>\n",
       "      <td>...</td>\n",
       "      <td>...</td>\n",
       "      <td>...</td>\n",
       "      <td>...</td>\n",
       "      <td>...</td>\n",
       "    </tr>\n",
       "    <tr>\n",
       "      <th>3116940</th>\n",
       "      <td>0.114831</td>\n",
       "      <td>0.136835</td>\n",
       "      <td>0.182799</td>\n",
       "      <td>0.216958</td>\n",
       "      <td>0.120204</td>\n",
       "      <td>0.436179</td>\n",
       "      <td>0.175520</td>\n",
       "      <td>0.173340</td>\n",
       "      <td>0.565238</td>\n",
       "      <td>0.298868</td>\n",
       "      <td>0.460658</td>\n",
       "      <td>0.199210</td>\n",
       "      <td>0.383918</td>\n",
       "      <td>0.999505</td>\n",
       "      <td>0.742211</td>\n",
       "      <td>0.239975</td>\n",
       "      <td>0.021314</td>\n",
       "      <td>0.270621</td>\n",
       "      <td>0.698634</td>\n",
       "      <td>0.370102</td>\n",
       "    </tr>\n",
       "    <tr>\n",
       "      <th>3116941</th>\n",
       "      <td>0.134549</td>\n",
       "      <td>0.074955</td>\n",
       "      <td>0.262099</td>\n",
       "      <td>0.117150</td>\n",
       "      <td>0.120204</td>\n",
       "      <td>0.121736</td>\n",
       "      <td>0.175520</td>\n",
       "      <td>0.227240</td>\n",
       "      <td>0.716194</td>\n",
       "      <td>0.110247</td>\n",
       "      <td>0.341732</td>\n",
       "      <td>0.199210</td>\n",
       "      <td>0.383918</td>\n",
       "      <td>0.999009</td>\n",
       "      <td>0.567025</td>\n",
       "      <td>0.759987</td>\n",
       "      <td>0.829021</td>\n",
       "      <td>0.270621</td>\n",
       "      <td>0.698634</td>\n",
       "      <td>0.370102</td>\n",
       "    </tr>\n",
       "    <tr>\n",
       "      <th>3116942</th>\n",
       "      <td>0.096602</td>\n",
       "      <td>0.107191</td>\n",
       "      <td>0.107483</td>\n",
       "      <td>0.460722</td>\n",
       "      <td>0.048944</td>\n",
       "      <td>0.063296</td>\n",
       "      <td>0.824445</td>\n",
       "      <td>0.249145</td>\n",
       "      <td>0.565238</td>\n",
       "      <td>0.298868</td>\n",
       "      <td>0.341732</td>\n",
       "      <td>0.199210</td>\n",
       "      <td>0.119981</td>\n",
       "      <td>0.999009</td>\n",
       "      <td>0.742211</td>\n",
       "      <td>0.239975</td>\n",
       "      <td>0.038078</td>\n",
       "      <td>0.270621</td>\n",
       "      <td>0.698634</td>\n",
       "      <td>0.495139</td>\n",
       "    </tr>\n",
       "    <tr>\n",
       "      <th>3116943</th>\n",
       "      <td>0.116815</td>\n",
       "      <td>0.102908</td>\n",
       "      <td>0.172692</td>\n",
       "      <td>0.034318</td>\n",
       "      <td>0.046379</td>\n",
       "      <td>0.436179</td>\n",
       "      <td>0.175520</td>\n",
       "      <td>0.116412</td>\n",
       "      <td>0.565238</td>\n",
       "      <td>0.110247</td>\n",
       "      <td>0.341732</td>\n",
       "      <td>0.224895</td>\n",
       "      <td>0.383918</td>\n",
       "      <td>0.999009</td>\n",
       "      <td>0.567025</td>\n",
       "      <td>0.239975</td>\n",
       "      <td>0.022649</td>\n",
       "      <td>0.270621</td>\n",
       "      <td>0.698634</td>\n",
       "      <td>0.370102</td>\n",
       "    </tr>\n",
       "    <tr>\n",
       "      <th>3116944</th>\n",
       "      <td>0.039311</td>\n",
       "      <td>0.031785</td>\n",
       "      <td>0.075705</td>\n",
       "      <td>0.460722</td>\n",
       "      <td>0.157393</td>\n",
       "      <td>0.067639</td>\n",
       "      <td>0.824445</td>\n",
       "      <td>0.227240</td>\n",
       "      <td>0.716194</td>\n",
       "      <td>0.298868</td>\n",
       "      <td>0.341732</td>\n",
       "      <td>0.199210</td>\n",
       "      <td>0.383918</td>\n",
       "      <td>0.999009</td>\n",
       "      <td>0.567025</td>\n",
       "      <td>0.759987</td>\n",
       "      <td>0.829021</td>\n",
       "      <td>0.270621</td>\n",
       "      <td>0.145949</td>\n",
       "      <td>0.370102</td>\n",
       "    </tr>\n",
       "  </tbody>\n",
       "</table>\n",
       "<p>3116945 rows × 20 columns</p>\n",
       "</div>"
      ],
      "text/plain": [
       "         cap-diameter  stem-height  stem-width  cap-shape  cap-surface  \\\n",
       "0            0.108755     0.050834    0.149563   0.216958     0.157393   \n",
       "1            0.055556     0.053990    0.062974   0.460722     0.116300   \n",
       "2            0.085689     0.077209    0.096501   0.216958     0.157393   \n",
       "3            0.047743     0.046889    0.063460   0.216958     0.134030   \n",
       "4            0.072173     0.037985    0.081244   0.460722     0.018340   \n",
       "...               ...          ...         ...        ...          ...   \n",
       "3116940      0.114831     0.136835    0.182799   0.216958     0.120204   \n",
       "3116941      0.134549     0.074955    0.262099   0.117150     0.120204   \n",
       "3116942      0.096602     0.107191    0.107483   0.460722     0.048944   \n",
       "3116943      0.116815     0.102908    0.172692   0.034318     0.046379   \n",
       "3116944      0.039311     0.031785    0.075705   0.460722     0.157393   \n",
       "\n",
       "         cap-color  does-bruise-or-bleed  gill-attachment  gill-spacing  \\\n",
       "0         0.023476              0.824445         0.249145      0.716194   \n",
       "1         0.057379              0.824445         0.249145      0.716194   \n",
       "2         0.019671              0.824445         0.139173      0.716194   \n",
       "3         0.067639              0.824445         0.113937      0.565238   \n",
       "4         0.121736              0.824445         0.227240      0.565238   \n",
       "...            ...                   ...              ...           ...   \n",
       "3116940   0.436179              0.175520         0.173340      0.565238   \n",
       "3116941   0.121736              0.175520         0.227240      0.716194   \n",
       "3116942   0.063296              0.824445         0.249145      0.565238   \n",
       "3116943   0.436179              0.175520         0.116412      0.565238   \n",
       "3116944   0.067639              0.824445         0.227240      0.716194   \n",
       "\n",
       "         gill-color  stem-root  stem-surface  stem-color  veil-type  \\\n",
       "0          0.298868   0.341732      0.199210    0.383918   0.999009   \n",
       "1          0.174336   0.341732      0.224895    0.035786   0.999009   \n",
       "2          0.298868   0.341732      0.288368    0.321942   0.999009   \n",
       "3          0.068069   0.341732      0.199210    0.383918   0.999009   \n",
       "4          0.298868   0.341732      0.199210    0.383918   0.999009   \n",
       "...             ...        ...           ...         ...        ...   \n",
       "3116940    0.298868   0.460658      0.199210    0.383918   0.999505   \n",
       "3116941    0.110247   0.341732      0.199210    0.383918   0.999009   \n",
       "3116942    0.298868   0.341732      0.199210    0.119981   0.999009   \n",
       "3116943    0.110247   0.341732      0.224895    0.383918   0.999009   \n",
       "3116944    0.298868   0.341732      0.199210    0.383918   0.999009   \n",
       "\n",
       "         veil-color  has-ring  ring-type  spore-print-color   habitat  \\\n",
       "0          0.567025  0.759987   0.829021           0.270621  0.698634   \n",
       "1          0.567025  0.239975   0.038078           0.270621  0.698634   \n",
       "2          0.567025  0.759987   0.829021           0.270621  0.055148   \n",
       "3          0.567025  0.759987   0.829021           0.270621  0.698634   \n",
       "4          0.567025  0.759987   0.829021           0.270621  0.145949   \n",
       "...             ...       ...        ...                ...       ...   \n",
       "3116940    0.742211  0.239975   0.021314           0.270621  0.698634   \n",
       "3116941    0.567025  0.759987   0.829021           0.270621  0.698634   \n",
       "3116942    0.742211  0.239975   0.038078           0.270621  0.698634   \n",
       "3116943    0.567025  0.239975   0.022649           0.270621  0.698634   \n",
       "3116944    0.567025  0.759987   0.829021           0.270621  0.145949   \n",
       "\n",
       "           season  \n",
       "0        0.495139  \n",
       "1        0.089251  \n",
       "2        0.089251  \n",
       "3        0.370102  \n",
       "4        0.495139  \n",
       "...           ...  \n",
       "3116940  0.370102  \n",
       "3116941  0.370102  \n",
       "3116942  0.495139  \n",
       "3116943  0.370102  \n",
       "3116944  0.370102  \n",
       "\n",
       "[3116945 rows x 20 columns]"
      ]
     },
     "execution_count": 28,
     "metadata": {},
     "output_type": "execute_result"
    }
   ],
   "source": [
    "imputed_encoded_df_train"
   ]
  },
  {
   "cell_type": "code",
   "execution_count": 29,
   "id": "0e6c3471",
   "metadata": {
    "execution": {
     "iopub.execute_input": "2024-08-28T21:29:38.427830Z",
     "iopub.status.busy": "2024-08-28T21:29:38.427429Z",
     "iopub.status.idle": "2024-08-28T21:29:38.528507Z",
     "shell.execute_reply": "2024-08-28T21:29:38.527549Z"
    },
    "papermill": {
     "duration": 0.123816,
     "end_time": "2024-08-28T21:29:38.530857",
     "exception": false,
     "start_time": "2024-08-28T21:29:38.407041",
     "status": "completed"
    },
    "tags": []
   },
   "outputs": [
    {
     "data": {
      "text/plain": [
       "cap-diameter            0\n",
       "stem-height             0\n",
       "stem-width              0\n",
       "cap-shape               0\n",
       "cap-surface             0\n",
       "cap-color               0\n",
       "does-bruise-or-bleed    0\n",
       "gill-attachment         0\n",
       "gill-spacing            0\n",
       "gill-color              0\n",
       "stem-root               0\n",
       "stem-surface            0\n",
       "stem-color              0\n",
       "veil-type               0\n",
       "veil-color              0\n",
       "has-ring                0\n",
       "ring-type               0\n",
       "spore-print-color       0\n",
       "habitat                 0\n",
       "season                  0\n",
       "dtype: int64"
      ]
     },
     "execution_count": 29,
     "metadata": {},
     "output_type": "execute_result"
    }
   ],
   "source": [
    "missing_values_count = missing_values_count = imputed_encoded_df_train.isna().sum()\n",
    "missing_values_count.isna().sum()\n",
    "missing_values_count"
   ]
  },
  {
   "cell_type": "markdown",
   "id": "aefb5b09",
   "metadata": {
    "papermill": {
     "duration": 0.01887,
     "end_time": "2024-08-28T21:29:38.570016",
     "exception": false,
     "start_time": "2024-08-28T21:29:38.551146",
     "status": "completed"
    },
    "tags": []
   },
   "source": [
    "# feature engineering"
   ]
  },
  {
   "cell_type": "markdown",
   "id": "513b56f8",
   "metadata": {
    "papermill": {
     "duration": 0.019338,
     "end_time": "2024-08-28T21:29:38.608516",
     "exception": false,
     "start_time": "2024-08-28T21:29:38.589178",
     "status": "completed"
    },
    "tags": []
   },
   "source": [
    "## mutual information"
   ]
  },
  {
   "cell_type": "code",
   "execution_count": 30,
   "id": "4ce1a1af",
   "metadata": {
    "execution": {
     "iopub.execute_input": "2024-08-28T21:29:38.648590Z",
     "iopub.status.busy": "2024-08-28T21:29:38.647893Z",
     "iopub.status.idle": "2024-08-28T21:29:38.652042Z",
     "shell.execute_reply": "2024-08-28T21:29:38.651086Z"
    },
    "papermill": {
     "duration": 0.026389,
     "end_time": "2024-08-28T21:29:38.653946",
     "exception": false,
     "start_time": "2024-08-28T21:29:38.627557",
     "status": "completed"
    },
    "tags": []
   },
   "outputs": [],
   "source": [
    "#from sklearn.feature_selection import mutual_info_classif\n",
    "#mutual_info = mutual_info_classif(imputed_encoded_df, y)\n",
    "#mutual_info"
   ]
  },
  {
   "cell_type": "code",
   "execution_count": 31,
   "id": "ea039a6f",
   "metadata": {
    "execution": {
     "iopub.execute_input": "2024-08-28T21:29:38.694258Z",
     "iopub.status.busy": "2024-08-28T21:29:38.693386Z",
     "iopub.status.idle": "2024-08-28T21:29:38.697579Z",
     "shell.execute_reply": "2024-08-28T21:29:38.696756Z"
    },
    "papermill": {
     "duration": 0.026531,
     "end_time": "2024-08-28T21:29:38.699557",
     "exception": false,
     "start_time": "2024-08-28T21:29:38.673026",
     "status": "completed"
    },
    "tags": []
   },
   "outputs": [],
   "source": [
    "#mutual_info = pd.Series(mutual_info)\n",
    "#mutual_info.index = imputed_encoded_df.columns\n",
    "#mutual_info.sort_values(ascending=False)"
   ]
  },
  {
   "cell_type": "code",
   "execution_count": 32,
   "id": "4ec0c595",
   "metadata": {
    "execution": {
     "iopub.execute_input": "2024-08-28T21:29:38.739055Z",
     "iopub.status.busy": "2024-08-28T21:29:38.738663Z",
     "iopub.status.idle": "2024-08-28T21:29:38.742823Z",
     "shell.execute_reply": "2024-08-28T21:29:38.741954Z"
    },
    "papermill": {
     "duration": 0.026064,
     "end_time": "2024-08-28T21:29:38.744673",
     "exception": false,
     "start_time": "2024-08-28T21:29:38.718609",
     "status": "completed"
    },
    "tags": []
   },
   "outputs": [],
   "source": [
    "#mutual_info.sort_values(ascending=False).plot.bar(figsize=(20, 8))"
   ]
  },
  {
   "cell_type": "markdown",
   "id": "c6e63d1f",
   "metadata": {
    "papermill": {
     "duration": 0.018671,
     "end_time": "2024-08-28T21:29:38.782082",
     "exception": false,
     "start_time": "2024-08-28T21:29:38.763411",
     "status": "completed"
    },
    "tags": []
   },
   "source": [
    "# splitting the data"
   ]
  },
  {
   "cell_type": "code",
   "execution_count": 33,
   "id": "43e1dd2c",
   "metadata": {
    "execution": {
     "iopub.execute_input": "2024-08-28T21:29:38.823657Z",
     "iopub.status.busy": "2024-08-28T21:29:38.822574Z",
     "iopub.status.idle": "2024-08-28T21:29:39.876810Z",
     "shell.execute_reply": "2024-08-28T21:29:39.875989Z"
    },
    "papermill": {
     "duration": 1.077023,
     "end_time": "2024-08-28T21:29:39.879216",
     "exception": false,
     "start_time": "2024-08-28T21:29:38.802193",
     "status": "completed"
    },
    "tags": []
   },
   "outputs": [],
   "source": [
    "from sklearn.model_selection import train_test_split\n",
    "\n",
    "X_train, X_valid, y_train, y_valid = train_test_split(imputed_encoded_df_train, y, test_size=0.2, random_state=42)"
   ]
  },
  {
   "cell_type": "markdown",
   "id": "8fa954c9",
   "metadata": {
    "papermill": {
     "duration": 0.019192,
     "end_time": "2024-08-28T21:29:39.918338",
     "exception": false,
     "start_time": "2024-08-28T21:29:39.899146",
     "status": "completed"
    },
    "tags": []
   },
   "source": [
    "# the model"
   ]
  },
  {
   "cell_type": "code",
   "execution_count": 34,
   "id": "cc68cf0d",
   "metadata": {
    "execution": {
     "iopub.execute_input": "2024-08-28T21:29:39.957890Z",
     "iopub.status.busy": "2024-08-28T21:29:39.957006Z",
     "iopub.status.idle": "2024-08-28T21:37:13.215588Z",
     "shell.execute_reply": "2024-08-28T21:37:13.214544Z"
    },
    "papermill": {
     "duration": 453.300481,
     "end_time": "2024-08-28T21:37:13.237671",
     "exception": false,
     "start_time": "2024-08-28T21:29:39.937190",
     "status": "completed"
    },
    "tags": []
   },
   "outputs": [
    {
     "name": "stdout",
     "output_type": "stream",
     "text": [
      "[LightGBM] [Info] Number of positive: 1364404, number of negative: 1129152\n",
      "[LightGBM] [Info] Auto-choosing row-wise multi-threading, the overhead of testing was 0.326117 seconds.\n",
      "You can set `force_row_wise=true` to remove the overhead.\n",
      "And if memory is not enough, you can set `force_col_wise=true`.\n",
      "[LightGBM] [Info] Total Bins 988\n",
      "[LightGBM] [Info] Number of data points in the train set: 2493556, number of used features: 20\n",
      "[LightGBM] [Info] [binary:BoostFromScore]: pavg=0.547172 -> initscore=0.189251\n",
      "[LightGBM] [Info] Start training from score 0.189251\n"
     ]
    },
    {
     "data": {
      "text/html": [
       "<style>#sk-container-id-1 {color: black;background-color: white;}#sk-container-id-1 pre{padding: 0;}#sk-container-id-1 div.sk-toggleable {background-color: white;}#sk-container-id-1 label.sk-toggleable__label {cursor: pointer;display: block;width: 100%;margin-bottom: 0;padding: 0.3em;box-sizing: border-box;text-align: center;}#sk-container-id-1 label.sk-toggleable__label-arrow:before {content: \"▸\";float: left;margin-right: 0.25em;color: #696969;}#sk-container-id-1 label.sk-toggleable__label-arrow:hover:before {color: black;}#sk-container-id-1 div.sk-estimator:hover label.sk-toggleable__label-arrow:before {color: black;}#sk-container-id-1 div.sk-toggleable__content {max-height: 0;max-width: 0;overflow: hidden;text-align: left;background-color: #f0f8ff;}#sk-container-id-1 div.sk-toggleable__content pre {margin: 0.2em;color: black;border-radius: 0.25em;background-color: #f0f8ff;}#sk-container-id-1 input.sk-toggleable__control:checked~div.sk-toggleable__content {max-height: 200px;max-width: 100%;overflow: auto;}#sk-container-id-1 input.sk-toggleable__control:checked~label.sk-toggleable__label-arrow:before {content: \"▾\";}#sk-container-id-1 div.sk-estimator input.sk-toggleable__control:checked~label.sk-toggleable__label {background-color: #d4ebff;}#sk-container-id-1 div.sk-label input.sk-toggleable__control:checked~label.sk-toggleable__label {background-color: #d4ebff;}#sk-container-id-1 input.sk-hidden--visually {border: 0;clip: rect(1px 1px 1px 1px);clip: rect(1px, 1px, 1px, 1px);height: 1px;margin: -1px;overflow: hidden;padding: 0;position: absolute;width: 1px;}#sk-container-id-1 div.sk-estimator {font-family: monospace;background-color: #f0f8ff;border: 1px dotted black;border-radius: 0.25em;box-sizing: border-box;margin-bottom: 0.5em;}#sk-container-id-1 div.sk-estimator:hover {background-color: #d4ebff;}#sk-container-id-1 div.sk-parallel-item::after {content: \"\";width: 100%;border-bottom: 1px solid gray;flex-grow: 1;}#sk-container-id-1 div.sk-label:hover label.sk-toggleable__label {background-color: #d4ebff;}#sk-container-id-1 div.sk-serial::before {content: \"\";position: absolute;border-left: 1px solid gray;box-sizing: border-box;top: 0;bottom: 0;left: 50%;z-index: 0;}#sk-container-id-1 div.sk-serial {display: flex;flex-direction: column;align-items: center;background-color: white;padding-right: 0.2em;padding-left: 0.2em;position: relative;}#sk-container-id-1 div.sk-item {position: relative;z-index: 1;}#sk-container-id-1 div.sk-parallel {display: flex;align-items: stretch;justify-content: center;background-color: white;position: relative;}#sk-container-id-1 div.sk-item::before, #sk-container-id-1 div.sk-parallel-item::before {content: \"\";position: absolute;border-left: 1px solid gray;box-sizing: border-box;top: 0;bottom: 0;left: 50%;z-index: -1;}#sk-container-id-1 div.sk-parallel-item {display: flex;flex-direction: column;z-index: 1;position: relative;background-color: white;}#sk-container-id-1 div.sk-parallel-item:first-child::after {align-self: flex-end;width: 50%;}#sk-container-id-1 div.sk-parallel-item:last-child::after {align-self: flex-start;width: 50%;}#sk-container-id-1 div.sk-parallel-item:only-child::after {width: 0;}#sk-container-id-1 div.sk-dashed-wrapped {border: 1px dashed gray;margin: 0 0.4em 0.5em 0.4em;box-sizing: border-box;padding-bottom: 0.4em;background-color: white;}#sk-container-id-1 div.sk-label label {font-family: monospace;font-weight: bold;display: inline-block;line-height: 1.2em;}#sk-container-id-1 div.sk-label-container {text-align: center;}#sk-container-id-1 div.sk-container {/* jupyter's `normalize.less` sets `[hidden] { display: none; }` but bootstrap.min.css set `[hidden] { display: none !important; }` so we also need the `!important` here to be able to override the default hidden behavior on the sphinx rendered scikit-learn.org. See: https://github.com/scikit-learn/scikit-learn/issues/21755 */display: inline-block !important;position: relative;}#sk-container-id-1 div.sk-text-repr-fallback {display: none;}</style><div id=\"sk-container-id-1\" class=\"sk-top-container\"><div class=\"sk-text-repr-fallback\"><pre>LGBMClassifier(n_estimators=3000, objective=&#x27;binary&#x27;, random_state=1121218)</pre><b>In a Jupyter environment, please rerun this cell to show the HTML representation or trust the notebook. <br />On GitHub, the HTML representation is unable to render, please try loading this page with nbviewer.org.</b></div><div class=\"sk-container\" hidden><div class=\"sk-item\"><div class=\"sk-estimator sk-toggleable\"><input class=\"sk-toggleable__control sk-hidden--visually\" id=\"sk-estimator-id-1\" type=\"checkbox\" checked><label for=\"sk-estimator-id-1\" class=\"sk-toggleable__label sk-toggleable__label-arrow\">LGBMClassifier</label><div class=\"sk-toggleable__content\"><pre>LGBMClassifier(n_estimators=3000, objective=&#x27;binary&#x27;, random_state=1121218)</pre></div></div></div></div></div>"
      ],
      "text/plain": [
       "LGBMClassifier(n_estimators=3000, objective='binary', random_state=1121218)"
      ]
     },
     "execution_count": 34,
     "metadata": {},
     "output_type": "execute_result"
    }
   ],
   "source": [
    "# build the lightgbm model\n",
    "import lightgbm as lgb\n",
    "clf = lgb.LGBMClassifier(objective=\"binary\", n_estimators=3000, learning_rate=0.1, random_state=1121218)\n",
    "clf.fit(X_train, y_train)"
   ]
  },
  {
   "cell_type": "markdown",
   "id": "c0d9836c",
   "metadata": {
    "papermill": {
     "duration": 0.01928,
     "end_time": "2024-08-28T21:37:13.276739",
     "exception": false,
     "start_time": "2024-08-28T21:37:13.257459",
     "status": "completed"
    },
    "tags": []
   },
   "source": [
    "# hyperparameter tuning"
   ]
  },
  {
   "cell_type": "markdown",
   "id": "d307866c",
   "metadata": {
    "papermill": {
     "duration": 0.019537,
     "end_time": "2024-08-28T21:37:13.315695",
     "exception": false,
     "start_time": "2024-08-28T21:37:13.296158",
     "status": "completed"
    },
    "tags": []
   },
   "source": [
    "# prediction"
   ]
  },
  {
   "cell_type": "code",
   "execution_count": 35,
   "id": "570a70be",
   "metadata": {
    "execution": {
     "iopub.execute_input": "2024-08-28T21:37:13.357460Z",
     "iopub.status.busy": "2024-08-28T21:37:13.356204Z",
     "iopub.status.idle": "2024-08-28T21:38:15.212053Z",
     "shell.execute_reply": "2024-08-28T21:38:15.210842Z"
    },
    "papermill": {
     "duration": 61.879292,
     "end_time": "2024-08-28T21:38:15.214839",
     "exception": false,
     "start_time": "2024-08-28T21:37:13.335547",
     "status": "completed"
    },
    "tags": []
   },
   "outputs": [],
   "source": [
    "# predict the results\n",
    "y_pred=clf.predict(X_valid)"
   ]
  },
  {
   "cell_type": "markdown",
   "id": "97951660",
   "metadata": {
    "papermill": {
     "duration": 0.021384,
     "end_time": "2024-08-28T21:38:15.257390",
     "exception": false,
     "start_time": "2024-08-28T21:38:15.236006",
     "status": "completed"
    },
    "tags": []
   },
   "source": [
    "# validation"
   ]
  },
  {
   "cell_type": "code",
   "execution_count": 36,
   "id": "e26ed3da",
   "metadata": {
    "execution": {
     "iopub.execute_input": "2024-08-28T21:38:15.299701Z",
     "iopub.status.busy": "2024-08-28T21:38:15.299292Z",
     "iopub.status.idle": "2024-08-28T21:38:15.331586Z",
     "shell.execute_reply": "2024-08-28T21:38:15.330538Z"
    },
    "papermill": {
     "duration": 0.056038,
     "end_time": "2024-08-28T21:38:15.334083",
     "exception": false,
     "start_time": "2024-08-28T21:38:15.278045",
     "status": "completed"
    },
    "tags": []
   },
   "outputs": [
    {
     "name": "stdout",
     "output_type": "stream",
     "text": [
      "LightGBM Model accuracy score: 0.9916\n"
     ]
    }
   ],
   "source": [
    "# view accuracy\n",
    "from sklearn.metrics import accuracy_score\n",
    "accuracy=accuracy_score(y_pred, y_valid)\n",
    "print('LightGBM Model accuracy score: {0:0.4f}'.format(accuracy_score(y_valid, y_pred)))"
   ]
  },
  {
   "cell_type": "code",
   "execution_count": 37,
   "id": "e09c97e3",
   "metadata": {
    "execution": {
     "iopub.execute_input": "2024-08-28T21:38:15.378278Z",
     "iopub.status.busy": "2024-08-28T21:38:15.377279Z",
     "iopub.status.idle": "2024-08-28T21:42:20.599796Z",
     "shell.execute_reply": "2024-08-28T21:42:20.598709Z"
    },
    "papermill": {
     "duration": 245.246311,
     "end_time": "2024-08-28T21:42:20.602660",
     "exception": false,
     "start_time": "2024-08-28T21:38:15.356349",
     "status": "completed"
    },
    "tags": []
   },
   "outputs": [],
   "source": [
    "y_pred_train = clf.predict(X_train)"
   ]
  },
  {
   "cell_type": "code",
   "execution_count": 38,
   "id": "476f3dbe",
   "metadata": {
    "execution": {
     "iopub.execute_input": "2024-08-28T21:42:20.646402Z",
     "iopub.status.busy": "2024-08-28T21:42:20.645979Z",
     "iopub.status.idle": "2024-08-28T21:42:20.721321Z",
     "shell.execute_reply": "2024-08-28T21:42:20.720114Z"
    },
    "papermill": {
     "duration": 0.098963,
     "end_time": "2024-08-28T21:42:20.723528",
     "exception": false,
     "start_time": "2024-08-28T21:42:20.624565",
     "status": "completed"
    },
    "tags": []
   },
   "outputs": [
    {
     "name": "stdout",
     "output_type": "stream",
     "text": [
      "Training-set accuracy score: 0.9932\n"
     ]
    }
   ],
   "source": [
    "print('Training-set accuracy score: {0:0.4f}'. format(accuracy_score(y_train, y_pred_train)))"
   ]
  },
  {
   "cell_type": "markdown",
   "id": "ba6f90aa",
   "metadata": {
    "papermill": {
     "duration": 0.019082,
     "end_time": "2024-08-28T21:42:20.762255",
     "exception": false,
     "start_time": "2024-08-28T21:42:20.743173",
     "status": "completed"
    },
    "tags": []
   },
   "source": [
    "## checking for Overfitting"
   ]
  },
  {
   "cell_type": "code",
   "execution_count": 39,
   "id": "3d6ae8ac",
   "metadata": {
    "execution": {
     "iopub.execute_input": "2024-08-28T21:42:20.802963Z",
     "iopub.status.busy": "2024-08-28T21:42:20.802563Z",
     "iopub.status.idle": "2024-08-28T21:47:26.879528Z",
     "shell.execute_reply": "2024-08-28T21:47:26.878414Z"
    },
    "papermill": {
     "duration": 306.120804,
     "end_time": "2024-08-28T21:47:26.902734",
     "exception": false,
     "start_time": "2024-08-28T21:42:20.781930",
     "status": "completed"
    },
    "tags": []
   },
   "outputs": [
    {
     "name": "stdout",
     "output_type": "stream",
     "text": [
      "Training set score: 0.9932\n",
      "Test set score: 0.9916\n"
     ]
    }
   ],
   "source": [
    "# print the scores on training and test set\n",
    "\n",
    "print('Training set score: {:.4f}'.format(clf.score(X_train, y_train)))\n",
    "\n",
    "print('Test set score: {:.4f}'.format(clf.score(X_valid, y_valid)))"
   ]
  },
  {
   "cell_type": "markdown",
   "id": "7af15271",
   "metadata": {
    "papermill": {
     "duration": 0.019821,
     "end_time": "2024-08-28T21:47:26.942689",
     "exception": false,
     "start_time": "2024-08-28T21:47:26.922868",
     "status": "completed"
    },
    "tags": []
   },
   "source": [
    "The training and test set accuracy are quite comparable. So, we cannot say there is overfitting"
   ]
  },
  {
   "cell_type": "markdown",
   "id": "02c83456",
   "metadata": {
    "papermill": {
     "duration": 0.019632,
     "end_time": "2024-08-28T21:47:26.982570",
     "exception": false,
     "start_time": "2024-08-28T21:47:26.962938",
     "status": "completed"
    },
    "tags": []
   },
   "source": [
    "## confusion matrix"
   ]
  },
  {
   "cell_type": "code",
   "execution_count": 40,
   "id": "0a9532a7",
   "metadata": {
    "execution": {
     "iopub.execute_input": "2024-08-28T21:47:27.024022Z",
     "iopub.status.busy": "2024-08-28T21:47:27.023614Z",
     "iopub.status.idle": "2024-08-28T21:47:27.058365Z",
     "shell.execute_reply": "2024-08-28T21:47:27.057146Z"
    },
    "papermill": {
     "duration": 0.058451,
     "end_time": "2024-08-28T21:47:27.060929",
     "exception": false,
     "start_time": "2024-08-28T21:47:27.002478",
     "status": "completed"
    },
    "tags": []
   },
   "outputs": [
    {
     "name": "stdout",
     "output_type": "stream",
     "text": [
      "Confusion matrix\n",
      "\n",
      " [[280140   2257]\n",
      " [  2986 338006]]\n",
      "\n",
      "True Positives(TP) =  280140\n",
      "\n",
      "True Negatives(TN) =  338006\n",
      "\n",
      "False Positives(FP) =  2257\n",
      "\n",
      "False Negatives(FN) =  2986\n"
     ]
    }
   ],
   "source": [
    "# view confusion-matrix\n",
    "# Print the Confusion Matrix and slice it into four pieces\n",
    "\n",
    "from sklearn.metrics import confusion_matrix\n",
    "cm = confusion_matrix(y_valid, y_pred)\n",
    "print('Confusion matrix\\n\\n', cm)\n",
    "print('\\nTrue Positives(TP) = ', cm[0,0])\n",
    "print('\\nTrue Negatives(TN) = ', cm[1,1])\n",
    "print('\\nFalse Positives(FP) = ', cm[0,1])\n",
    "print('\\nFalse Negatives(FN) = ', cm[1,0])"
   ]
  },
  {
   "cell_type": "markdown",
   "id": "51bbe32b",
   "metadata": {
    "papermill": {
     "duration": 0.019681,
     "end_time": "2024-08-28T21:47:27.102381",
     "exception": false,
     "start_time": "2024-08-28T21:47:27.082700",
     "status": "completed"
    },
    "tags": []
   },
   "source": [
    "## heatmap"
   ]
  },
  {
   "cell_type": "code",
   "execution_count": 41,
   "id": "87eec853",
   "metadata": {
    "execution": {
     "iopub.execute_input": "2024-08-28T21:47:27.144480Z",
     "iopub.status.busy": "2024-08-28T21:47:27.143789Z",
     "iopub.status.idle": "2024-08-28T21:47:27.463664Z",
     "shell.execute_reply": "2024-08-28T21:47:27.462697Z"
    },
    "papermill": {
     "duration": 0.343091,
     "end_time": "2024-08-28T21:47:27.465789",
     "exception": false,
     "start_time": "2024-08-28T21:47:27.122698",
     "status": "completed"
    },
    "tags": []
   },
   "outputs": [
    {
     "data": {
      "text/plain": [
       "<Axes: >"
      ]
     },
     "execution_count": 41,
     "metadata": {},
     "output_type": "execute_result"
    },
    {
     "data": {
      "image/png": "[encoded data removed]",
      "text/plain": [
       "<Figure size 640x480 with 2 Axes>"
      ]
     },
     "metadata": {},
     "output_type": "display_data"
    }
   ],
   "source": [
    "# visualize confusion matrix with seaborn heatmap\n",
    "\n",
    "cm_matrix = pd.DataFrame(data=cm, columns=['Actual Positive:1', 'Actual Negative:0'], \n",
    "                                 index=['Predict Positive:1', 'Predict Negative:0'])\n",
    "\n",
    "sns.heatmap(cm_matrix, annot=True, fmt='d', cmap='YlGnBu')"
   ]
  },
  {
   "cell_type": "code",
   "execution_count": 42,
   "id": "09a1772c",
   "metadata": {
    "execution": {
     "iopub.execute_input": "2024-08-28T21:47:27.509350Z",
     "iopub.status.busy": "2024-08-28T21:47:27.508417Z",
     "iopub.status.idle": "2024-08-28T21:47:27.777200Z",
     "shell.execute_reply": "2024-08-28T21:47:27.776215Z"
    },
    "papermill": {
     "duration": 0.293238,
     "end_time": "2024-08-28T21:47:27.779578",
     "exception": false,
     "start_time": "2024-08-28T21:47:27.486340",
     "status": "completed"
    },
    "tags": []
   },
   "outputs": [
    {
     "name": "stdout",
     "output_type": "stream",
     "text": [
      "              precision    recall  f1-score   support\n",
      "\n",
      "           0       0.99      0.99      0.99    282397\n",
      "           1       0.99      0.99      0.99    340992\n",
      "\n",
      "    accuracy                           0.99    623389\n",
      "   macro avg       0.99      0.99      0.99    623389\n",
      "weighted avg       0.99      0.99      0.99    623389\n",
      "\n"
     ]
    }
   ],
   "source": [
    "from sklearn.metrics import classification_report\n",
    "print(classification_report(y_valid, y_pred))"
   ]
  },
  {
   "cell_type": "code",
   "execution_count": 43,
   "id": "481aebb9",
   "metadata": {
    "execution": {
     "iopub.execute_input": "2024-08-28T21:47:27.824057Z",
     "iopub.status.busy": "2024-08-28T21:47:27.823371Z",
     "iopub.status.idle": "2024-08-28T21:47:27.889234Z",
     "shell.execute_reply": "2024-08-28T21:47:27.888155Z"
    },
    "papermill": {
     "duration": 0.089733,
     "end_time": "2024-08-28T21:47:27.891300",
     "exception": false,
     "start_time": "2024-08-28T21:47:27.801567",
     "status": "completed"
    },
    "tags": []
   },
   "outputs": [
    {
     "name": "stdout",
     "output_type": "stream",
     "text": [
      "MCC: 0.98303560456719\n"
     ]
    }
   ],
   "source": [
    "from sklearn.metrics import matthews_corrcoef\n",
    "\n",
    "# Assuming you have:\n",
    "# - y_true: True labels\n",
    "# - y_pred: Predicted labels\n",
    "\n",
    "mcc = matthews_corrcoef(y_valid, y_pred)\n",
    "print(\"MCC:\", mcc)"
   ]
  },
  {
   "cell_type": "markdown",
   "id": "41bb4a45",
   "metadata": {
    "papermill": {
     "duration": 0.020782,
     "end_time": "2024-08-28T21:47:27.933214",
     "exception": false,
     "start_time": "2024-08-28T21:47:27.912432",
     "status": "completed"
    },
    "tags": []
   },
   "source": [
    "# submission"
   ]
  },
  {
   "cell_type": "code",
   "execution_count": 44,
   "id": "3439ef7e",
   "metadata": {
    "execution": {
     "iopub.execute_input": "2024-08-28T21:47:27.976797Z",
     "iopub.status.busy": "2024-08-28T21:47:27.976364Z",
     "iopub.status.idle": "2024-08-28T21:50:50.710814Z",
     "shell.execute_reply": "2024-08-28T21:50:50.709711Z"
    },
    "papermill": {
     "duration": 202.759905,
     "end_time": "2024-08-28T21:50:50.713853",
     "exception": false,
     "start_time": "2024-08-28T21:47:27.953948",
     "status": "completed"
    },
    "tags": []
   },
   "outputs": [],
   "source": [
    "y_pred_test = clf.predict(imputed_encoded_df_test)"
   ]
  },
  {
   "cell_type": "code",
   "execution_count": 45,
   "id": "cb47979c",
   "metadata": {
    "execution": {
     "iopub.execute_input": "2024-08-28T21:50:50.761143Z",
     "iopub.status.busy": "2024-08-28T21:50:50.760427Z",
     "iopub.status.idle": "2024-08-28T21:50:50.778173Z",
     "shell.execute_reply": "2024-08-28T21:50:50.777154Z"
    },
    "papermill": {
     "duration": 0.04261,
     "end_time": "2024-08-28T21:50:50.780577",
     "exception": false,
     "start_time": "2024-08-28T21:50:50.737967",
     "status": "completed"
    },
    "tags": []
   },
   "outputs": [],
   "source": [
    "sub = pd.DataFrame({\n",
    "    'id': test['id'],\n",
    "    'class': y_pred_test\n",
    "})"
   ]
  },
  {
   "cell_type": "code",
   "execution_count": 46,
   "id": "9b585fa4",
   "metadata": {
    "execution": {
     "iopub.execute_input": "2024-08-28T21:50:50.828627Z",
     "iopub.status.busy": "2024-08-28T21:50:50.827885Z",
     "iopub.status.idle": "2024-08-28T21:50:50.839149Z",
     "shell.execute_reply": "2024-08-28T21:50:50.838124Z"
    },
    "papermill": {
     "duration": 0.035672,
     "end_time": "2024-08-28T21:50:50.841496",
     "exception": false,
     "start_time": "2024-08-28T21:50:50.805824",
     "status": "completed"
    },
    "tags": []
   },
   "outputs": [
    {
     "data": {
      "text/html": [
       "<div>\n",
       "<style scoped>\n",
       "    .dataframe tbody tr th:only-of-type {\n",
       "        vertical-align: middle;\n",
       "    }\n",
       "\n",
       "    .dataframe tbody tr th {\n",
       "        vertical-align: top;\n",
       "    }\n",
       "\n",
       "    .dataframe thead th {\n",
       "        text-align: right;\n",
       "    }\n",
       "</style>\n",
       "<table border=\"1\" class=\"dataframe\">\n",
       "  <thead>\n",
       "    <tr style=\"text-align: right;\">\n",
       "      <th></th>\n",
       "      <th>id</th>\n",
       "      <th>class</th>\n",
       "    </tr>\n",
       "  </thead>\n",
       "  <tbody>\n",
       "    <tr>\n",
       "      <th>0</th>\n",
       "      <td>3116945</td>\n",
       "      <td>0</td>\n",
       "    </tr>\n",
       "    <tr>\n",
       "      <th>1</th>\n",
       "      <td>3116946</td>\n",
       "      <td>1</td>\n",
       "    </tr>\n",
       "    <tr>\n",
       "      <th>2</th>\n",
       "      <td>3116947</td>\n",
       "      <td>1</td>\n",
       "    </tr>\n",
       "    <tr>\n",
       "      <th>3</th>\n",
       "      <td>3116948</td>\n",
       "      <td>1</td>\n",
       "    </tr>\n",
       "    <tr>\n",
       "      <th>4</th>\n",
       "      <td>3116949</td>\n",
       "      <td>0</td>\n",
       "    </tr>\n",
       "    <tr>\n",
       "      <th>...</th>\n",
       "      <td>...</td>\n",
       "      <td>...</td>\n",
       "    </tr>\n",
       "    <tr>\n",
       "      <th>2077959</th>\n",
       "      <td>5194904</td>\n",
       "      <td>1</td>\n",
       "    </tr>\n",
       "    <tr>\n",
       "      <th>2077960</th>\n",
       "      <td>5194905</td>\n",
       "      <td>1</td>\n",
       "    </tr>\n",
       "    <tr>\n",
       "      <th>2077961</th>\n",
       "      <td>5194906</td>\n",
       "      <td>1</td>\n",
       "    </tr>\n",
       "    <tr>\n",
       "      <th>2077962</th>\n",
       "      <td>5194907</td>\n",
       "      <td>0</td>\n",
       "    </tr>\n",
       "    <tr>\n",
       "      <th>2077963</th>\n",
       "      <td>5194908</td>\n",
       "      <td>0</td>\n",
       "    </tr>\n",
       "  </tbody>\n",
       "</table>\n",
       "<p>2077964 rows × 2 columns</p>\n",
       "</div>"
      ],
      "text/plain": [
       "              id  class\n",
       "0        3116945      0\n",
       "1        3116946      1\n",
       "2        3116947      1\n",
       "3        3116948      1\n",
       "4        3116949      0\n",
       "...          ...    ...\n",
       "2077959  5194904      1\n",
       "2077960  5194905      1\n",
       "2077961  5194906      1\n",
       "2077962  5194907      0\n",
       "2077963  5194908      0\n",
       "\n",
       "[2077964 rows x 2 columns]"
      ]
     },
     "execution_count": 46,
     "metadata": {},
     "output_type": "execute_result"
    }
   ],
   "source": [
    "sub"
   ]
  },
  {
   "cell_type": "code",
   "execution_count": 47,
   "id": "80672db6",
   "metadata": {
    "execution": {
     "iopub.execute_input": "2024-08-28T21:50:50.886505Z",
     "iopub.status.busy": "2024-08-28T21:50:50.885581Z",
     "iopub.status.idle": "2024-08-28T21:50:51.049565Z",
     "shell.execute_reply": "2024-08-28T21:50:51.048503Z"
    },
    "papermill": {
     "duration": 0.188965,
     "end_time": "2024-08-28T21:50:51.052087",
     "exception": false,
     "start_time": "2024-08-28T21:50:50.863122",
     "status": "completed"
    },
    "tags": []
   },
   "outputs": [],
   "source": [
    "sub['class'] = sub['class'].replace( [0, 1],['e', 'p'])"
   ]
  },
  {
   "cell_type": "code",
   "execution_count": 48,
   "id": "50c5d26e",
   "metadata": {
    "execution": {
     "iopub.execute_input": "2024-08-28T21:50:51.096025Z",
     "iopub.status.busy": "2024-08-28T21:50:51.095299Z",
     "iopub.status.idle": "2024-08-28T21:50:51.106177Z",
     "shell.execute_reply": "2024-08-28T21:50:51.105162Z"
    },
    "papermill": {
     "duration": 0.035162,
     "end_time": "2024-08-28T21:50:51.108376",
     "exception": false,
     "start_time": "2024-08-28T21:50:51.073214",
     "status": "completed"
    },
    "tags": []
   },
   "outputs": [
    {
     "data": {
      "text/html": [
       "<div>\n",
       "<style scoped>\n",
       "    .dataframe tbody tr th:only-of-type {\n",
       "        vertical-align: middle;\n",
       "    }\n",
       "\n",
       "    .dataframe tbody tr th {\n",
       "        vertical-align: top;\n",
       "    }\n",
       "\n",
       "    .dataframe thead th {\n",
       "        text-align: right;\n",
       "    }\n",
       "</style>\n",
       "<table border=\"1\" class=\"dataframe\">\n",
       "  <thead>\n",
       "    <tr style=\"text-align: right;\">\n",
       "      <th></th>\n",
       "      <th>id</th>\n",
       "      <th>class</th>\n",
       "    </tr>\n",
       "  </thead>\n",
       "  <tbody>\n",
       "    <tr>\n",
       "      <th>0</th>\n",
       "      <td>3116945</td>\n",
       "      <td>e</td>\n",
       "    </tr>\n",
       "    <tr>\n",
       "      <th>1</th>\n",
       "      <td>3116946</td>\n",
       "      <td>p</td>\n",
       "    </tr>\n",
       "    <tr>\n",
       "      <th>2</th>\n",
       "      <td>3116947</td>\n",
       "      <td>p</td>\n",
       "    </tr>\n",
       "    <tr>\n",
       "      <th>3</th>\n",
       "      <td>3116948</td>\n",
       "      <td>p</td>\n",
       "    </tr>\n",
       "    <tr>\n",
       "      <th>4</th>\n",
       "      <td>3116949</td>\n",
       "      <td>e</td>\n",
       "    </tr>\n",
       "    <tr>\n",
       "      <th>...</th>\n",
       "      <td>...</td>\n",
       "      <td>...</td>\n",
       "    </tr>\n",
       "    <tr>\n",
       "      <th>2077959</th>\n",
       "      <td>5194904</td>\n",
       "      <td>p</td>\n",
       "    </tr>\n",
       "    <tr>\n",
       "      <th>2077960</th>\n",
       "      <td>5194905</td>\n",
       "      <td>p</td>\n",
       "    </tr>\n",
       "    <tr>\n",
       "      <th>2077961</th>\n",
       "      <td>5194906</td>\n",
       "      <td>p</td>\n",
       "    </tr>\n",
       "    <tr>\n",
       "      <th>2077962</th>\n",
       "      <td>5194907</td>\n",
       "      <td>e</td>\n",
       "    </tr>\n",
       "    <tr>\n",
       "      <th>2077963</th>\n",
       "      <td>5194908</td>\n",
       "      <td>e</td>\n",
       "    </tr>\n",
       "  </tbody>\n",
       "</table>\n",
       "<p>2077964 rows × 2 columns</p>\n",
       "</div>"
      ],
      "text/plain": [
       "              id class\n",
       "0        3116945     e\n",
       "1        3116946     p\n",
       "2        3116947     p\n",
       "3        3116948     p\n",
       "4        3116949     e\n",
       "...          ...   ...\n",
       "2077959  5194904     p\n",
       "2077960  5194905     p\n",
       "2077961  5194906     p\n",
       "2077962  5194907     e\n",
       "2077963  5194908     e\n",
       "\n",
       "[2077964 rows x 2 columns]"
      ]
     },
     "execution_count": 48,
     "metadata": {},
     "output_type": "execute_result"
    }
   ],
   "source": [
    "sub"
   ]
  },
  {
   "cell_type": "code",
   "execution_count": 49,
   "id": "66e771cb",
   "metadata": {
    "execution": {
     "iopub.execute_input": "2024-08-28T21:50:51.152930Z",
     "iopub.status.busy": "2024-08-28T21:50:51.152022Z",
     "iopub.status.idle": "2024-08-28T21:50:53.509626Z",
     "shell.execute_reply": "2024-08-28T21:50:53.508713Z"
    },
    "papermill": {
     "duration": 2.38219,
     "end_time": "2024-08-28T21:50:53.511942",
     "exception": false,
     "start_time": "2024-08-28T21:50:51.129752",
     "status": "completed"
    },
    "tags": []
   },
   "outputs": [],
   "source": [
    "sub.to_csv('submission.csv', index=False)"
   ]
  }
 ],
 "metadata": {
  "kaggle": {
   "accelerator": "gpu",
   "dataSources": [
    {
     "databundleVersionId": 9045607,
     "sourceId": 76727,
     "sourceType": "competition"
    }
   ],
   "dockerImageVersionId": 30761,
   "isGpuEnabled": true,
   "isInternetEnabled": true,
   "language": "python",
   "sourceType": "notebook"
  },
  "kernelspec": {
   "display_name": "Python 3",
   "language": "python",
   "name": "python3"
  },
  "language_info": {
   "codemirror_mode": {
    "name": "ipython",
    "version": 3
   },
   "file_extension": ".py",
   "mimetype": "text/x-python",
   "name": "python",
   "nbconvert_exporter": "python",
   "pygments_lexer": "ipython3",
   "version": "3.10.14"
  },
  "papermill": {
   "default_parameters": {},
   "duration": 1327.740293,
   "end_time": "2024-08-28T21:50:55.056901",
   "environment_variables": {},
   "exception": null,
   "input_path": "__notebook__.ipynb",
   "output_path": "__notebook__.ipynb",
   "parameters": {},
   "start_time": "2024-08-28T21:28:47.316608",
   "version": "2.6.0"
  }
 },
 "nbformat": 4,
 "nbformat_minor": 5
}
